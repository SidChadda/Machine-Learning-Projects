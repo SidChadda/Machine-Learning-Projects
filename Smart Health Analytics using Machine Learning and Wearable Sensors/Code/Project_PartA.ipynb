{
  "nbformat": 4,
  "nbformat_minor": 0,
  "metadata": {
    "colab": {
      "name": "Project2-updated.ipynb",
      "provenance": [],
      "collapsed_sections": []
    },
    "kernelspec": {
      "display_name": "Python 3",
      "language": "python",
      "name": "python3"
    },
    "language_info": {
      "codemirror_mode": {
        "name": "ipython",
        "version": 3
      },
      "file_extension": ".py",
      "mimetype": "text/x-python",
      "name": "python",
      "nbconvert_exporter": "python",
      "pygments_lexer": "ipython3",
      "version": "3.8.8"
    }
  },
  "cells": [
    {
      "cell_type": "code",
      "metadata": {
        "colab": {
          "base_uri": "https://localhost:8080/"
        },
        "id": "KsmAdkDEEiFo",
        "outputId": "d8d7a541-d1f1-4d69-f8c7-2f5279f96d13"
      },
      "source": [
        "import numpy as np\n",
        "import pandas as pd\n",
        "from sklearn.model_selection import train_test_split\n",
        "from sklearn.svm import SVC\n",
        "from sklearn import metrics\n",
        "from sklearn.metrics import accuracy_score, mean_absolute_error,confusion_matrix,classification_report\n",
        "from sklearn.ensemble import RandomForestClassifier\n",
        "import matplotlib.pyplot as plt\n",
        "!pip install scikit-multilearn\n",
        "from sklearn.multioutput import ClassifierChain\n",
        "from skmultilearn.problem_transform import LabelPowerset\n",
        "from sklearn.cluster import KMeans\n",
        "import pickle\n",
        "%matplotlib inline\n",
        "import seaborn as sns\n",
        "from sklearn.model_selection import train_test_split\n",
        "from sklearn.preprocessing import OneHotEncoder"
      ],
      "execution_count": 1,
      "outputs": [
        {
          "output_type": "stream",
          "text": [
            "Collecting scikit-multilearn\n",
            "  Downloading scikit_multilearn-0.2.0-py3-none-any.whl (89 kB)\n",
            "\u001b[?25l\r\u001b[K     |███▊                            | 10 kB 21.7 MB/s eta 0:00:01\r\u001b[K     |███████▍                        | 20 kB 25.0 MB/s eta 0:00:01\r\u001b[K     |███████████                     | 30 kB 11.9 MB/s eta 0:00:01\r\u001b[K     |██████████████▊                 | 40 kB 8.4 MB/s eta 0:00:01\r\u001b[K     |██████████████████▍             | 51 kB 5.4 MB/s eta 0:00:01\r\u001b[K     |██████████████████████          | 61 kB 5.2 MB/s eta 0:00:01\r\u001b[K     |█████████████████████████▊      | 71 kB 5.5 MB/s eta 0:00:01\r\u001b[K     |█████████████████████████████▍  | 81 kB 6.2 MB/s eta 0:00:01\r\u001b[K     |████████████████████████████████| 89 kB 3.6 MB/s \n",
            "\u001b[?25hInstalling collected packages: scikit-multilearn\n",
            "Successfully installed scikit-multilearn-0.2.0\n"
          ],
          "name": "stdout"
        }
      ]
    },
    {
      "cell_type": "markdown",
      "metadata": {
        "id": "y01rQ39uQVZY"
      },
      "source": [
        "Please upload the clean data file shared in the zip folder."
      ]
    },
    {
      "cell_type": "code",
      "metadata": {
        "id": "PJwDVrxuEyGS"
      },
      "source": [
        "df= pd.read_csv(\"data_clean.csv\")"
      ],
      "execution_count": 2,
      "outputs": []
    },
    {
      "cell_type": "code",
      "metadata": {
        "colab": {
          "base_uri": "https://localhost:8080/",
          "height": 236
        },
        "id": "nq21fXFaE6bz",
        "outputId": "682e3c06-f59e-44a8-b24a-b3ab545941e2"
      },
      "source": [
        "df.head()"
      ],
      "execution_count": 3,
      "outputs": [
        {
          "output_type": "execute_result",
          "data": {
            "text/html": [
              "<div>\n",
              "<style scoped>\n",
              "    .dataframe tbody tr th:only-of-type {\n",
              "        vertical-align: middle;\n",
              "    }\n",
              "\n",
              "    .dataframe tbody tr th {\n",
              "        vertical-align: top;\n",
              "    }\n",
              "\n",
              "    .dataframe thead th {\n",
              "        text-align: right;\n",
              "    }\n",
              "</style>\n",
              "<table border=\"1\" class=\"dataframe\">\n",
              "  <thead>\n",
              "    <tr style=\"text-align: right;\">\n",
              "      <th></th>\n",
              "      <th>Age</th>\n",
              "      <th>Weight</th>\n",
              "      <th>FCVC</th>\n",
              "      <th>NCP</th>\n",
              "      <th>CH2O</th>\n",
              "      <th>FAF</th>\n",
              "      <th>Gender</th>\n",
              "      <th>family_history_with_overweight</th>\n",
              "      <th>FAVC</th>\n",
              "      <th>CAEC_Always</th>\n",
              "      <th>CAEC_Frequently</th>\n",
              "      <th>CAEC_Sometimes</th>\n",
              "      <th>CAEC_no</th>\n",
              "      <th>SMOKE</th>\n",
              "      <th>SCC</th>\n",
              "      <th>CALC_Always</th>\n",
              "      <th>CALC_Frequently</th>\n",
              "      <th>CALC_Sometimes</th>\n",
              "      <th>CALC_no</th>\n",
              "      <th>MTRANS_Automobile</th>\n",
              "      <th>MTRANS_Bike</th>\n",
              "      <th>MTRANS_Motorbike</th>\n",
              "      <th>MTRANS_Public_Transportation</th>\n",
              "      <th>MTRANS_Walking</th>\n",
              "      <th>NObeyesdad_Insufficient_Weight</th>\n",
              "      <th>NObeyesdad_Normal_Weight</th>\n",
              "      <th>NObeyesdad_Obesity_Type_I</th>\n",
              "      <th>NObeyesdad_Obesity_Type_II</th>\n",
              "      <th>NObeyesdad_Obesity_Type_III</th>\n",
              "      <th>NObeyesdad_Overweight_Level_I</th>\n",
              "      <th>NObeyesdad_Overweight_Level_II</th>\n",
              "      <th>Age_Group_(13.999, 19.0]</th>\n",
              "      <th>Age_Group_(19.0, 22.0]</th>\n",
              "      <th>Age_Group_(22.0, 26.0]</th>\n",
              "      <th>Age_Group_(26.0, 61.0]</th>\n",
              "    </tr>\n",
              "  </thead>\n",
              "  <tbody>\n",
              "    <tr>\n",
              "      <th>0</th>\n",
              "      <td>0.148936</td>\n",
              "      <td>0.186567</td>\n",
              "      <td>0.5</td>\n",
              "      <td>0.666667</td>\n",
              "      <td>0.5</td>\n",
              "      <td>0.000000</td>\n",
              "      <td>1.0</td>\n",
              "      <td>1.0</td>\n",
              "      <td>0.0</td>\n",
              "      <td>0.0</td>\n",
              "      <td>0.0</td>\n",
              "      <td>1.0</td>\n",
              "      <td>0.0</td>\n",
              "      <td>0.0</td>\n",
              "      <td>0.0</td>\n",
              "      <td>0.0</td>\n",
              "      <td>0.0</td>\n",
              "      <td>0.0</td>\n",
              "      <td>1.0</td>\n",
              "      <td>0.0</td>\n",
              "      <td>0.0</td>\n",
              "      <td>0.0</td>\n",
              "      <td>1.0</td>\n",
              "      <td>0.0</td>\n",
              "      <td>0.0</td>\n",
              "      <td>1.0</td>\n",
              "      <td>0.0</td>\n",
              "      <td>0.0</td>\n",
              "      <td>0.0</td>\n",
              "      <td>0.0</td>\n",
              "      <td>0.0</td>\n",
              "      <td>0.0</td>\n",
              "      <td>1.0</td>\n",
              "      <td>0.0</td>\n",
              "      <td>0.0</td>\n",
              "    </tr>\n",
              "    <tr>\n",
              "      <th>1</th>\n",
              "      <td>0.148936</td>\n",
              "      <td>0.126866</td>\n",
              "      <td>1.0</td>\n",
              "      <td>0.666667</td>\n",
              "      <td>1.0</td>\n",
              "      <td>1.000000</td>\n",
              "      <td>1.0</td>\n",
              "      <td>1.0</td>\n",
              "      <td>0.0</td>\n",
              "      <td>0.0</td>\n",
              "      <td>0.0</td>\n",
              "      <td>1.0</td>\n",
              "      <td>0.0</td>\n",
              "      <td>1.0</td>\n",
              "      <td>1.0</td>\n",
              "      <td>0.0</td>\n",
              "      <td>0.0</td>\n",
              "      <td>1.0</td>\n",
              "      <td>0.0</td>\n",
              "      <td>0.0</td>\n",
              "      <td>0.0</td>\n",
              "      <td>0.0</td>\n",
              "      <td>1.0</td>\n",
              "      <td>0.0</td>\n",
              "      <td>0.0</td>\n",
              "      <td>1.0</td>\n",
              "      <td>0.0</td>\n",
              "      <td>0.0</td>\n",
              "      <td>0.0</td>\n",
              "      <td>0.0</td>\n",
              "      <td>0.0</td>\n",
              "      <td>0.0</td>\n",
              "      <td>1.0</td>\n",
              "      <td>0.0</td>\n",
              "      <td>0.0</td>\n",
              "    </tr>\n",
              "    <tr>\n",
              "      <th>2</th>\n",
              "      <td>0.191489</td>\n",
              "      <td>0.283582</td>\n",
              "      <td>0.5</td>\n",
              "      <td>0.666667</td>\n",
              "      <td>0.5</td>\n",
              "      <td>0.666667</td>\n",
              "      <td>0.0</td>\n",
              "      <td>1.0</td>\n",
              "      <td>0.0</td>\n",
              "      <td>0.0</td>\n",
              "      <td>0.0</td>\n",
              "      <td>1.0</td>\n",
              "      <td>0.0</td>\n",
              "      <td>0.0</td>\n",
              "      <td>0.0</td>\n",
              "      <td>0.0</td>\n",
              "      <td>1.0</td>\n",
              "      <td>0.0</td>\n",
              "      <td>0.0</td>\n",
              "      <td>0.0</td>\n",
              "      <td>0.0</td>\n",
              "      <td>0.0</td>\n",
              "      <td>1.0</td>\n",
              "      <td>0.0</td>\n",
              "      <td>0.0</td>\n",
              "      <td>1.0</td>\n",
              "      <td>0.0</td>\n",
              "      <td>0.0</td>\n",
              "      <td>0.0</td>\n",
              "      <td>0.0</td>\n",
              "      <td>0.0</td>\n",
              "      <td>0.0</td>\n",
              "      <td>0.0</td>\n",
              "      <td>1.0</td>\n",
              "      <td>0.0</td>\n",
              "    </tr>\n",
              "    <tr>\n",
              "      <th>3</th>\n",
              "      <td>0.276596</td>\n",
              "      <td>0.358209</td>\n",
              "      <td>1.0</td>\n",
              "      <td>0.666667</td>\n",
              "      <td>0.5</td>\n",
              "      <td>0.666667</td>\n",
              "      <td>0.0</td>\n",
              "      <td>0.0</td>\n",
              "      <td>0.0</td>\n",
              "      <td>0.0</td>\n",
              "      <td>0.0</td>\n",
              "      <td>1.0</td>\n",
              "      <td>0.0</td>\n",
              "      <td>0.0</td>\n",
              "      <td>0.0</td>\n",
              "      <td>0.0</td>\n",
              "      <td>1.0</td>\n",
              "      <td>0.0</td>\n",
              "      <td>0.0</td>\n",
              "      <td>0.0</td>\n",
              "      <td>0.0</td>\n",
              "      <td>0.0</td>\n",
              "      <td>0.0</td>\n",
              "      <td>1.0</td>\n",
              "      <td>0.0</td>\n",
              "      <td>0.0</td>\n",
              "      <td>0.0</td>\n",
              "      <td>0.0</td>\n",
              "      <td>0.0</td>\n",
              "      <td>1.0</td>\n",
              "      <td>0.0</td>\n",
              "      <td>0.0</td>\n",
              "      <td>0.0</td>\n",
              "      <td>0.0</td>\n",
              "      <td>1.0</td>\n",
              "    </tr>\n",
              "    <tr>\n",
              "      <th>4</th>\n",
              "      <td>0.170213</td>\n",
              "      <td>0.379104</td>\n",
              "      <td>0.5</td>\n",
              "      <td>0.000000</td>\n",
              "      <td>0.5</td>\n",
              "      <td>0.000000</td>\n",
              "      <td>0.0</td>\n",
              "      <td>0.0</td>\n",
              "      <td>0.0</td>\n",
              "      <td>0.0</td>\n",
              "      <td>0.0</td>\n",
              "      <td>1.0</td>\n",
              "      <td>0.0</td>\n",
              "      <td>0.0</td>\n",
              "      <td>0.0</td>\n",
              "      <td>0.0</td>\n",
              "      <td>0.0</td>\n",
              "      <td>1.0</td>\n",
              "      <td>0.0</td>\n",
              "      <td>0.0</td>\n",
              "      <td>0.0</td>\n",
              "      <td>0.0</td>\n",
              "      <td>1.0</td>\n",
              "      <td>0.0</td>\n",
              "      <td>0.0</td>\n",
              "      <td>0.0</td>\n",
              "      <td>0.0</td>\n",
              "      <td>0.0</td>\n",
              "      <td>0.0</td>\n",
              "      <td>0.0</td>\n",
              "      <td>1.0</td>\n",
              "      <td>0.0</td>\n",
              "      <td>1.0</td>\n",
              "      <td>0.0</td>\n",
              "      <td>0.0</td>\n",
              "    </tr>\n",
              "  </tbody>\n",
              "</table>\n",
              "</div>"
            ],
            "text/plain": [
              "        Age    Weight  ...  Age_Group_(22.0, 26.0]  Age_Group_(26.0, 61.0]\n",
              "0  0.148936  0.186567  ...                     0.0                     0.0\n",
              "1  0.148936  0.126866  ...                     0.0                     0.0\n",
              "2  0.191489  0.283582  ...                     1.0                     0.0\n",
              "3  0.276596  0.358209  ...                     0.0                     1.0\n",
              "4  0.170213  0.379104  ...                     0.0                     0.0\n",
              "\n",
              "[5 rows x 35 columns]"
            ]
          },
          "metadata": {
            "tags": []
          },
          "execution_count": 3
        }
      ]
    },
    {
      "cell_type": "code",
      "metadata": {
        "colab": {
          "base_uri": "https://localhost:8080/"
        },
        "id": "ANNdwycmOJFr",
        "outputId": "2b47c785-5ad9-4280-a98e-b5c50868c470"
      },
      "source": [
        "df.columns"
      ],
      "execution_count": 4,
      "outputs": [
        {
          "output_type": "execute_result",
          "data": {
            "text/plain": [
              "Index(['Age', 'Weight', 'FCVC', 'NCP', 'CH2O', 'FAF', 'Gender',\n",
              "       'family_history_with_overweight', 'FAVC', 'CAEC_Always',\n",
              "       'CAEC_Frequently', 'CAEC_Sometimes', 'CAEC_no', 'SMOKE', 'SCC',\n",
              "       'CALC_Always', 'CALC_Frequently', 'CALC_Sometimes', 'CALC_no',\n",
              "       'MTRANS_Automobile', 'MTRANS_Bike', 'MTRANS_Motorbike',\n",
              "       'MTRANS_Public_Transportation', 'MTRANS_Walking',\n",
              "       'NObeyesdad_Insufficient_Weight', 'NObeyesdad_Normal_Weight',\n",
              "       'NObeyesdad_Obesity_Type_I', 'NObeyesdad_Obesity_Type_II',\n",
              "       'NObeyesdad_Obesity_Type_III', 'NObeyesdad_Overweight_Level_I',\n",
              "       'NObeyesdad_Overweight_Level_II', 'Age_Group_(13.999, 19.0]',\n",
              "       'Age_Group_(19.0, 22.0]', 'Age_Group_(22.0, 26.0]',\n",
              "       'Age_Group_(26.0, 61.0]'],\n",
              "      dtype='object')"
            ]
          },
          "metadata": {
            "tags": []
          },
          "execution_count": 4
        }
      ]
    },
    {
      "cell_type": "code",
      "metadata": {
        "id": "NF2WKM8OiuRk"
      },
      "source": [
        "df.rename(columns={ 'Age_Group_(13.999, 19.0]': 'Age_Group_14_19','Age_Group_(19.0, 22.0]' : 'Age_Group_19.0_22.0' , 'Age_Group_(22.0, 26.0]' : 'Age_Group_23.0_26.0',\n",
        "       'Age_Group_(26.0, 61.0]' : 'Age_Group_27.0_61.0'}, inplace=True)"
      ],
      "execution_count": 5,
      "outputs": []
    },
    {
      "cell_type": "markdown",
      "metadata": {
        "id": "d7Y0B0mRQnno"
      },
      "source": [
        "Classifying the people whether they monitor the calorie consumption or not."
      ]
    },
    {
      "cell_type": "code",
      "metadata": {
        "id": "ogDHcqD7Q47-"
      },
      "source": [
        "X =  df.drop(columns = ['SCC']).copy()"
      ],
      "execution_count": 6,
      "outputs": []
    },
    {
      "cell_type": "code",
      "metadata": {
        "id": "hHkn2fRgRHOj"
      },
      "source": [
        "Y = df['SCC']"
      ],
      "execution_count": 7,
      "outputs": []
    },
    {
      "cell_type": "markdown",
      "metadata": {
        "id": "NjgMqn1UQvc7"
      },
      "source": [
        "Splitting the dataset into training, testing and validation datasets."
      ]
    },
    {
      "cell_type": "code",
      "metadata": {
        "id": "BXkLNEKoRkY0"
      },
      "source": [
        "train_size=0.6"
      ],
      "execution_count": 8,
      "outputs": []
    },
    {
      "cell_type": "code",
      "metadata": {
        "id": "eC77S729RRqv"
      },
      "source": [
        "X_train, X_rem, y_train, y_rem = train_test_split(X,Y, train_size=0.6, shuffle= True)"
      ],
      "execution_count": 9,
      "outputs": []
    },
    {
      "cell_type": "code",
      "metadata": {
        "id": "li2JizHNS45d"
      },
      "source": [
        "test_size = 0.5\n",
        "X_valid, X_test, y_valid, y_test = train_test_split(X_rem,y_rem, test_size=0.5, shuffle= True)"
      ],
      "execution_count": 10,
      "outputs": []
    },
    {
      "cell_type": "code",
      "metadata": {
        "colab": {
          "base_uri": "https://localhost:8080/"
        },
        "id": "0I1LlHQ3TIe_",
        "outputId": "530e5667-8e51-4c03-f7c5-e91fe0ed08de"
      },
      "source": [
        "print(X_train.shape), print(y_train.shape)\n",
        "print(X_valid.shape), print(y_valid.shape)\n",
        "print(X_test.shape), print(y_test.shape)"
      ],
      "execution_count": 11,
      "outputs": [
        {
          "output_type": "stream",
          "text": [
            "(1266, 34)\n",
            "(1266,)\n",
            "(422, 34)\n",
            "(422,)\n",
            "(423, 34)\n",
            "(423,)\n"
          ],
          "name": "stdout"
        },
        {
          "output_type": "execute_result",
          "data": {
            "text/plain": [
              "(None, None)"
            ]
          },
          "metadata": {
            "tags": []
          },
          "execution_count": 11
        }
      ]
    },
    {
      "cell_type": "markdown",
      "metadata": {
        "id": "poGWUZChQ3pU"
      },
      "source": [
        "Using Support Vector Machine for performing binary classification."
      ]
    },
    {
      "cell_type": "code",
      "metadata": {
        "colab": {
          "base_uri": "https://localhost:8080/"
        },
        "id": "xDCt3rppTgPA",
        "outputId": "06aff461-3b5f-40c2-c1e8-a68afcc9d37d"
      },
      "source": [
        "from sklearn.model_selection import cross_val_score\n",
        "c = [0.1, 0.25, 0.5,1,2]\n",
        "for i in c:   \n",
        "  model_soft=SVC(kernel= 'linear',C=i)\n",
        "  model_soft.fit(X_train,y_train)\n",
        "  # calculating training accuracy\n",
        "  accuracies = cross_val_score(estimator = model_soft, X = X_train, y = y_train, cv = 5)\n",
        "  validation_accuracies = cross_val_score(estimator = model_soft, X = X_valid, y = y_valid, cv = 5)\n",
        "  test_accuracies = cross_val_score(estimator = model_soft, X = X_test, y = y_test, cv = 5)\n",
        "  # printing training accuracy\n",
        "  print(\"\\nThe accuracy with C:{:.2f}:\".format(i), accuracies.mean())\n",
        "  print(\"\\nThe validation accuracy with C:{:.2f}:\".format(i), validation_accuracies.mean())\n",
        "  print(\"\\nThe test accuracy with C:{:.2f}:\".format(i), test_accuracies.mean())"
      ],
      "execution_count": 12,
      "outputs": [
        {
          "output_type": "stream",
          "text": [
            "\n",
            "The accuracy with C:0.10: 0.9541875447387259\n",
            "\n",
            "The validation accuracy with C:0.10: 0.9597478991596639\n",
            "\n",
            "The test accuracy with C:0.10: 0.9503641456582633\n",
            "\n",
            "The accuracy with C:0.25: 0.9541875447387259\n",
            "\n",
            "The validation accuracy with C:0.25: 0.9597478991596639\n",
            "\n",
            "The test accuracy with C:0.25: 0.9503641456582633\n",
            "\n",
            "The accuracy with C:0.50: 0.9541875447387259\n",
            "\n",
            "The validation accuracy with C:0.50: 0.9597478991596639\n",
            "\n",
            "The test accuracy with C:0.50: 0.9503641456582633\n",
            "\n",
            "The accuracy with C:1.00: 0.9541875447387259\n",
            "\n",
            "The validation accuracy with C:1.00: 0.9597478991596639\n",
            "\n",
            "The test accuracy with C:1.00: 0.9432773109243697\n",
            "\n",
            "The accuracy with C:2.00: 0.9541875447387259\n",
            "\n",
            "The validation accuracy with C:2.00: 0.9550140056022409\n",
            "\n",
            "The test accuracy with C:2.00: 0.9361624649859944\n"
          ],
          "name": "stdout"
        }
      ]
    },
    {
      "cell_type": "code",
      "metadata": {
        "id": "mmEt3yWynxGl"
      },
      "source": [
        "# save the model to disk\n",
        "filename = 'svm_model_1.pkl'\n",
        "pickle.dump(model_soft, open(filename, 'wb'))"
      ],
      "execution_count": 13,
      "outputs": []
    },
    {
      "cell_type": "markdown",
      "metadata": {
        "id": "9iF_KdeiRHYA"
      },
      "source": [
        "Using random forest classifier."
      ]
    },
    {
      "cell_type": "code",
      "metadata": {
        "id": "5Jb78c8rWPQ6"
      },
      "source": [
        "rfc = RandomForestClassifier()"
      ],
      "execution_count": 14,
      "outputs": []
    },
    {
      "cell_type": "code",
      "metadata": {
        "colab": {
          "base_uri": "https://localhost:8080/"
        },
        "id": "fCzKheXmWTET",
        "outputId": "40e856ae-c222-4c67-bc9d-4c6fa957c79f"
      },
      "source": [
        "rfc.fit(X_train,y_train)"
      ],
      "execution_count": 15,
      "outputs": [
        {
          "output_type": "execute_result",
          "data": {
            "text/plain": [
              "RandomForestClassifier(bootstrap=True, ccp_alpha=0.0, class_weight=None,\n",
              "                       criterion='gini', max_depth=None, max_features='auto',\n",
              "                       max_leaf_nodes=None, max_samples=None,\n",
              "                       min_impurity_decrease=0.0, min_impurity_split=None,\n",
              "                       min_samples_leaf=1, min_samples_split=2,\n",
              "                       min_weight_fraction_leaf=0.0, n_estimators=100,\n",
              "                       n_jobs=None, oob_score=False, random_state=None,\n",
              "                       verbose=0, warm_start=False)"
            ]
          },
          "metadata": {
            "tags": []
          },
          "execution_count": 15
        }
      ]
    },
    {
      "cell_type": "code",
      "metadata": {
        "id": "SbKgEx0_WU1h"
      },
      "source": [
        "# model assessment\n",
        "pred_test_rfc = rfc.predict(X_test)\n",
        "pred_valid_rfc = rfc.predict(X_valid)\n",
        "pred_train_rfc = rfc.predict(X_train)\n"
      ],
      "execution_count": 16,
      "outputs": []
    },
    {
      "cell_type": "code",
      "metadata": {
        "colab": {
          "base_uri": "https://localhost:8080/"
        },
        "id": "KEgiXx6PXHBG",
        "outputId": "c7adec68-28bd-4bef-9513-c9d668323b5a"
      },
      "source": [
        "print('Train Accuracy: ', accuracy_score(y_train, pred_train_rfc))\n",
        "print('Validation Accuracy: ', accuracy_score(y_valid, pred_valid_rfc))\n",
        "print('Test Accuraccy: ', accuracy_score(y_test, pred_test_rfc))"
      ],
      "execution_count": 17,
      "outputs": [
        {
          "output_type": "stream",
          "text": [
            "Train Accuracy:  1.0\n",
            "Validation Accuracy:  0.976303317535545\n",
            "Test Accuraccy:  0.9598108747044918\n"
          ],
          "name": "stdout"
        }
      ]
    },
    {
      "cell_type": "markdown",
      "metadata": {
        "id": "0H4JpzoPROdT"
      },
      "source": [
        "Using XGBoost classifier"
      ]
    },
    {
      "cell_type": "code",
      "metadata": {
        "id": "12bfpShMcM9F"
      },
      "source": [
        "import time\n",
        "from xgboost import XGBClassifier"
      ],
      "execution_count": 18,
      "outputs": []
    },
    {
      "cell_type": "code",
      "metadata": {
        "id": "xhgeUdA6a1uN"
      },
      "source": [
        "xgbmodel = XGBClassifier(early_stopping=10,n_estimators=50, random_state=0)"
      ],
      "execution_count": 19,
      "outputs": []
    },
    {
      "cell_type": "code",
      "metadata": {
        "colab": {
          "base_uri": "https://localhost:8080/"
        },
        "id": "JPhTHDo8a8GJ",
        "outputId": "1a198031-802b-46db-a972-0ae0dbc49c07"
      },
      "source": [
        "# fit the model\n",
        "xgbmodel.fit(X_train,y_train)"
      ],
      "execution_count": 20,
      "outputs": [
        {
          "output_type": "execute_result",
          "data": {
            "text/plain": [
              "XGBClassifier(base_score=0.5, booster='gbtree', colsample_bylevel=1,\n",
              "              colsample_bynode=1, colsample_bytree=1, early_stopping=10,\n",
              "              gamma=0, learning_rate=0.1, max_delta_step=0, max_depth=3,\n",
              "              min_child_weight=1, missing=None, n_estimators=50, n_jobs=1,\n",
              "              nthread=None, objective='binary:logistic', random_state=0,\n",
              "              reg_alpha=0, reg_lambda=1, scale_pos_weight=1, seed=None,\n",
              "              silent=None, subsample=1, verbosity=1)"
            ]
          },
          "metadata": {
            "tags": []
          },
          "execution_count": 20
        }
      ]
    },
    {
      "cell_type": "code",
      "metadata": {
        "id": "R_FOh9Ihkj5C"
      },
      "source": [
        "# model assessment\n",
        "pred_test = xgbmodel.predict(X_test)\n",
        "pred_train = xgbmodel.predict(X_train)\n",
        "pred_validation = xgbmodel.predict(X_valid)"
      ],
      "execution_count": 21,
      "outputs": []
    },
    {
      "cell_type": "code",
      "metadata": {
        "colab": {
          "base_uri": "https://localhost:8080/"
        },
        "id": "pDJjnH0kk3U8",
        "outputId": "67c378e9-ff77-4282-e2ce-5571fde69ffe"
      },
      "source": [
        "print('Train Accuracy: ', accuracy_score(y_train, pred_train))\n",
        "print('Validation Accuraccy: ', accuracy_score(y_valid, pred_validation))\n",
        "print('Test Accuraccy: ', accuracy_score(y_test, pred_test))"
      ],
      "execution_count": 22,
      "outputs": [
        {
          "output_type": "stream",
          "text": [
            "Train Accuracy:  0.981042654028436\n",
            "Validation Accuraccy:  0.9715639810426541\n",
            "Test Accuraccy:  0.9598108747044918\n"
          ],
          "name": "stdout"
        }
      ]
    },
    {
      "cell_type": "code",
      "metadata": {
        "id": "zOx0ZnW9hvry"
      },
      "source": [
        "model_new = XGBClassifier(n_estimators=50, random_state=0,reg_lambda=1)"
      ],
      "execution_count": 23,
      "outputs": []
    },
    {
      "cell_type": "code",
      "metadata": {
        "id": "7SQeERendKpU"
      },
      "source": [
        "# define the eval set and metric\n",
        "eval_set = [(X_train,y_train), (X_valid, y_valid)]\n",
        "eval_metric = [\"mlogloss\",\"error\"]"
      ],
      "execution_count": 24,
      "outputs": []
    },
    {
      "cell_type": "code",
      "metadata": {
        "colab": {
          "base_uri": "https://localhost:8080/"
        },
        "id": "52AHc62gbW64",
        "outputId": "dbc4f70f-0f48-421f-90b6-bbe3ddf32b0c"
      },
      "source": [
        "model_new.fit(X_train,y_train, eval_set=eval_set, eval_metric= [\"logloss\", \"mae\"], verbose=False)"
      ],
      "execution_count": 25,
      "outputs": [
        {
          "output_type": "execute_result",
          "data": {
            "text/plain": [
              "XGBClassifier(base_score=0.5, booster='gbtree', colsample_bylevel=1,\n",
              "              colsample_bynode=1, colsample_bytree=1, gamma=0,\n",
              "              learning_rate=0.1, max_delta_step=0, max_depth=3,\n",
              "              min_child_weight=1, missing=None, n_estimators=50, n_jobs=1,\n",
              "              nthread=None, objective='binary:logistic', random_state=0,\n",
              "              reg_alpha=0, reg_lambda=1, scale_pos_weight=1, seed=None,\n",
              "              silent=None, subsample=1, verbosity=1)"
            ]
          },
          "metadata": {
            "tags": []
          },
          "execution_count": 25
        }
      ]
    },
    {
      "cell_type": "code",
      "metadata": {
        "id": "dZFcH0K7YEt2"
      },
      "source": [
        "# retrieve performance metrics\n",
        "results =  model_new.evals_result()\n"
      ],
      "execution_count": 26,
      "outputs": []
    },
    {
      "cell_type": "code",
      "metadata": {
        "colab": {
          "base_uri": "https://localhost:8080/",
          "height": 545
        },
        "id": "N-rgcRBJYWEy",
        "outputId": "2269de82-e9db-4054-d09c-98edc8d79c3e"
      },
      "source": [
        "epochs = len(results['validation_0']['mae'])\n",
        "x_axis = range(0, epochs)\n",
        "# plot log loss\n",
        "fig, ax = plt.subplots()\n",
        "ax.plot(x_axis, results['validation_0']['logloss'], label='Train')\n",
        "ax.plot(x_axis, results['validation_1']['logloss'], label='Validation')\n",
        "ax.legend()\n",
        "plt.ylabel('Log Loss')\n",
        "plt.title('XGBoost Log Loss')\n",
        "plt.show()\n",
        "# plot classification error\n",
        "fig, ax = plt.subplots()\n",
        "ax.plot(x_axis, results['validation_0']['mae'], label='Train')\n",
        "ax.plot(x_axis, results['validation_1']['mae'], label='Validation')\n",
        "ax.legend()\n",
        "plt.ylabel('Classification Error')\n",
        "plt.title('XGBoost Classification Error')\n",
        "plt.show()"
      ],
      "execution_count": 27,
      "outputs": [
        {
          "output_type": "display_data",
          "data": {
            "image/png": "[encoded data removed]",
            "text/plain": [
              "<Figure size 432x288 with 1 Axes>"
            ]
          },
          "metadata": {
            "tags": [],
            "needs_background": "light"
          }
        },
        {
          "output_type": "display_data",
          "data": {
            "image/png": "[encoded data removed]",
            "text/plain": [
              "<Figure size 432x288 with 1 Axes>"
            ]
          },
          "metadata": {
            "tags": [],
            "needs_background": "light"
          }
        }
      ]
    },
    {
      "cell_type": "code",
      "metadata": {
        "id": "2PYnigLEY2Xs"
      },
      "source": [
        "# save the model to disk\n",
        "filename = 'xgb_model_1.pkl'\n",
        "pickle.dump(model_new, open(filename, 'wb'))"
      ],
      "execution_count": 28,
      "outputs": []
    },
    {
      "cell_type": "markdown",
      "metadata": {
        "id": "3QRkb4i96P8M"
      },
      "source": [
        "Unsupervised Algorithm"
      ]
    },
    {
      "cell_type": "code",
      "metadata": {
        "id": "TJurK47A2iLU"
      },
      "source": [
        "Kmean = KMeans(n_clusters=2)"
      ],
      "execution_count": null,
      "outputs": []
    },
    {
      "cell_type": "code",
      "metadata": {
        "colab": {
          "base_uri": "https://localhost:8080/"
        },
        "id": "5i2nT5dE2fEO",
        "outputId": "06cdeed7-581c-4202-e5a2-5b8f93e563ee"
      },
      "source": [
        "Kmean.fit(X_train)"
      ],
      "execution_count": null,
      "outputs": [
        {
          "output_type": "execute_result",
          "data": {
            "text/plain": [
              "KMeans(n_clusters=2)"
            ]
          },
          "metadata": {
            "tags": []
          },
          "execution_count": 30
        }
      ]
    },
    {
      "cell_type": "code",
      "metadata": {
        "colab": {
          "base_uri": "https://localhost:8080/"
        },
        "id": "k1HIk2C_2-SN",
        "outputId": "863de82c-4553-480e-ecc4-df3a7779d56f"
      },
      "source": [
        "Kmean.cluster_centers_"
      ],
      "execution_count": null,
      "outputs": [
        {
          "output_type": "execute_result",
          "data": {
            "text/plain": [
              "array([[3.73180291e-01, 3.56784142e-01, 6.77619109e-01, 5.66073327e-01,\n",
              "        4.48716125e-01, 3.27614339e-01, 3.61842105e-01, 8.81578947e-01,\n",
              "        9.24342105e-01, 3.28947368e-02, 6.57894737e-02, 8.94736842e-01,\n",
              "        6.57894737e-03, 2.30263158e-02, 6.50521303e-19, 5.92105263e-02,\n",
              "        5.85526316e-01, 3.55263158e-01, 9.34210526e-01, 2.60208521e-18,\n",
              "        6.57894737e-03, 4.60526316e-02, 1.31578947e-02, 7.89473684e-02,\n",
              "        1.01973684e-01, 2.46710526e-01, 2.46710526e-01, 1.38777878e-16,\n",
              "        1.41447368e-01, 1.84210526e-01, 9.86842105e-02, 4.60526316e-02,\n",
              "        8.88157895e-02, 7.66447368e-01],\n",
              "       [1.61343832e-01, 3.55010417e-01, 7.23552797e-01, 5.51008031e-01,\n",
              "        5.24235011e-01, 3.40475336e-01, 5.45738046e-01, 8.02494802e-01,\n",
              "        8.74220374e-01, 2.49480249e-02, 1.38253638e-01, 8.10810811e-01,\n",
              "        2.59875260e-02, 1.87110187e-02, 1.03950104e-03, 2.59875260e-02,\n",
              "        6.94386694e-01, 2.78586279e-01, 5.55111512e-16, 3.11850312e-03,\n",
              "        4.15800416e-03, 9.58419958e-01, 3.43035343e-02, 1.43451143e-01,\n",
              "        1.41372141e-01, 1.47609148e-01, 1.06029106e-01, 1.97505198e-01,\n",
              "        1.33056133e-01, 1.30977131e-01, 3.10810811e-01, 3.49272349e-01,\n",
              "        2.92099792e-01, 4.78170478e-02]])"
            ]
          },
          "metadata": {
            "tags": []
          },
          "execution_count": 31
        }
      ]
    },
    {
      "cell_type": "code",
      "metadata": {
        "colab": {
          "base_uri": "https://localhost:8080/"
        },
        "id": "jmMnrmkQ3P9Z",
        "outputId": "435e4ec4-7c56-478d-d14e-17202965c62b"
      },
      "source": [
        "Kmean.labels_"
      ],
      "execution_count": null,
      "outputs": [
        {
          "output_type": "execute_result",
          "data": {
            "text/plain": [
              "array([0, 1, 1, ..., 1, 0, 1])"
            ]
          },
          "metadata": {
            "tags": []
          },
          "execution_count": 32
        }
      ]
    },
    {
      "cell_type": "code",
      "metadata": {
        "id": "U012v_UK5JnK"
      },
      "source": [
        "# model assessment\n",
        "pred_testk = Kmean.predict(X_test)\n",
        "pred_traink = Kmean.predict(X_train)\n",
        "pred_validationk = Kmean.predict(X_valid)"
      ],
      "execution_count": null,
      "outputs": []
    },
    {
      "cell_type": "code",
      "metadata": {
        "colab": {
          "base_uri": "https://localhost:8080/"
        },
        "id": "Lp-6jgeg59Zv",
        "outputId": "fb7e0fed-aa24-4a1d-d4df-c9e1a3bda6ae"
      },
      "source": [
        "print('Train Accuracy: ', accuracy_score(y_train, pred_traink))\n",
        "print('Validation Accuraccy: ', accuracy_score(y_valid, pred_validationk))\n",
        "print('Test Accuraccy: ', accuracy_score(y_test, pred_testk))"
      ],
      "execution_count": null,
      "outputs": [
        {
          "output_type": "stream",
          "text": [
            "Train Accuracy:  0.2685624012638231\n",
            "Validation Accuraccy:  0.25118483412322273\n",
            "Test Accuraccy:  0.26713947990543735\n"
          ],
          "name": "stdout"
        }
      ]
    },
    {
      "cell_type": "markdown",
      "metadata": {
        "id": "aK_LFLwLlSvF"
      },
      "source": [
        "Classification of the dataset into the 4 age groups"
      ]
    },
    {
      "cell_type": "code",
      "metadata": {
        "colab": {
          "base_uri": "https://localhost:8080/"
        },
        "id": "AEId0Z2OcWFY",
        "outputId": "42c422b3-5fd3-4eb7-b47b-be1afc059686"
      },
      "source": [
        "df.columns"
      ],
      "execution_count": null,
      "outputs": [
        {
          "output_type": "execute_result",
          "data": {
            "text/plain": [
              "Index(['Age', 'Weight', 'FCVC', 'NCP', 'CH2O', 'FAF', 'Gender',\n",
              "       'family_history_with_overweight', 'FAVC', 'CAEC_Always',\n",
              "       'CAEC_Frequently', 'CAEC_Sometimes', 'CAEC_no', 'SMOKE', 'SCC',\n",
              "       'CALC_Always', 'CALC_Frequently', 'CALC_Sometimes', 'CALC_no',\n",
              "       'MTRANS_Automobile', 'MTRANS_Bike', 'MTRANS_Motorbike',\n",
              "       'MTRANS_Public_Transportation', 'MTRANS_Walking',\n",
              "       'NObeyesdad_Insufficient_Weight', 'NObeyesdad_Normal_Weight',\n",
              "       'NObeyesdad_Obesity_Type_I', 'NObeyesdad_Obesity_Type_II',\n",
              "       'NObeyesdad_Obesity_Type_III', 'NObeyesdad_Overweight_Level_I',\n",
              "       'NObeyesdad_Overweight_Level_II', 'Age_Group_14_19',\n",
              "       'Age_Group_19.0_22.0', 'Age_Group_23.0_26.0', 'Age_Group_27.0_61.0'],\n",
              "      dtype='object')"
            ]
          },
          "metadata": {
            "tags": []
          },
          "execution_count": 35
        }
      ]
    },
    {
      "cell_type": "code",
      "metadata": {
        "id": "uKad7UVCuau3"
      },
      "source": [
        "X2 =  df.drop(columns = ['Age_Group_14_19',\n",
        "       'Age_Group_19.0_22.0', 'Age_Group_23.0_26.0', 'Age_Group_27.0_61.0']).copy()"
      ],
      "execution_count": null,
      "outputs": []
    },
    {
      "cell_type": "code",
      "metadata": {
        "id": "4BaedrtYujXm"
      },
      "source": [
        "Y2 = df[['Age_Group_14_19',\n",
        "       'Age_Group_19.0_22.0', 'Age_Group_23.0_26.0', 'Age_Group_27.0_61.0']]"
      ],
      "execution_count": null,
      "outputs": []
    },
    {
      "cell_type": "markdown",
      "metadata": {
        "id": "GNH4Mgeo6q1P"
      },
      "source": [
        "Splitting the dataset into Training set, validation set and Testing set"
      ]
    },
    {
      "cell_type": "code",
      "metadata": {
        "id": "XNg3D-N7yfrP"
      },
      "source": [
        "train_size2=0.6"
      ],
      "execution_count": null,
      "outputs": []
    },
    {
      "cell_type": "code",
      "metadata": {
        "id": "_cnmQLxXymNl"
      },
      "source": [
        "X_train2, X_rem2, y_train2, y_rem2 = train_test_split(X2,Y2, train_size=0.6, shuffle= True)"
      ],
      "execution_count": null,
      "outputs": []
    },
    {
      "cell_type": "code",
      "metadata": {
        "id": "LljxLrxzyt2C"
      },
      "source": [
        "test_size = 0.5\n",
        "X_valid2, X_test2, y_valid2, y_test2 = train_test_split(X_rem2,y_rem2, test_size=0.5, shuffle= True)"
      ],
      "execution_count": null,
      "outputs": []
    },
    {
      "cell_type": "markdown",
      "metadata": {
        "id": "wbJMrDEi6xIx"
      },
      "source": [
        "Classifier Chains of Naive Bayes Algorithm"
      ]
    },
    {
      "cell_type": "code",
      "metadata": {
        "id": "uarI9DV-usci"
      },
      "source": [
        "from sklearn.naive_bayes import GaussianNB"
      ],
      "execution_count": null,
      "outputs": []
    },
    {
      "cell_type": "code",
      "metadata": {
        "id": "fD-W4GjUuwqc"
      },
      "source": [
        "classifier = ClassifierChain(GaussianNB())"
      ],
      "execution_count": null,
      "outputs": []
    },
    {
      "cell_type": "code",
      "metadata": {
        "colab": {
          "base_uri": "https://localhost:8080/"
        },
        "id": "rX6oEfcGwr9I",
        "outputId": "f2189716-3701-4ebe-fc52-54dc3c0fd098"
      },
      "source": [
        "classifier.fit(X_train2, y_train2)"
      ],
      "execution_count": null,
      "outputs": [
        {
          "output_type": "execute_result",
          "data": {
            "text/plain": [
              "ClassifierChain(base_estimator=GaussianNB())"
            ]
          },
          "metadata": {
            "tags": []
          },
          "execution_count": 43
        }
      ]
    },
    {
      "cell_type": "code",
      "metadata": {
        "id": "I1FoLcd2w1P9"
      },
      "source": [
        "predictions = classifier.predict(X_test2)"
      ],
      "execution_count": null,
      "outputs": []
    },
    {
      "cell_type": "code",
      "metadata": {
        "id": "8B-gTfWLxvOU"
      },
      "source": [
        "train_predictions = classifier.predict(X_train2)"
      ],
      "execution_count": null,
      "outputs": []
    },
    {
      "cell_type": "code",
      "metadata": {
        "id": "NnVVGY7ny2xp"
      },
      "source": [
        "validation_predictions = classifier.predict(X_valid2)"
      ],
      "execution_count": null,
      "outputs": []
    },
    {
      "cell_type": "code",
      "metadata": {
        "colab": {
          "base_uri": "https://localhost:8080/"
        },
        "id": "ml6TswTRxr-x",
        "outputId": "c25794d8-2d76-4951-93be-48719428af7b"
      },
      "source": [
        "print('Train Accuracy: ', accuracy_score(y_train2, train_predictions))"
      ],
      "execution_count": null,
      "outputs": [
        {
          "output_type": "stream",
          "text": [
            "Train Accuracy:  0.5229067930489731\n"
          ],
          "name": "stdout"
        }
      ]
    },
    {
      "cell_type": "code",
      "metadata": {
        "colab": {
          "base_uri": "https://localhost:8080/"
        },
        "id": "6HkMO6zlw23s",
        "outputId": "11696c5b-b82b-4dc2-80e4-086b5279cc8c"
      },
      "source": [
        "print('Test Accuracy: ', accuracy_score(y_test2,predictions))"
      ],
      "execution_count": null,
      "outputs": [
        {
          "output_type": "stream",
          "text": [
            "Test Accuracy:  0.541371158392435\n"
          ],
          "name": "stdout"
        }
      ]
    },
    {
      "cell_type": "code",
      "metadata": {
        "colab": {
          "base_uri": "https://localhost:8080/"
        },
        "id": "flXzsWRzzEZk",
        "outputId": "a682f47b-a1a3-42d0-bf56-9937ce6c2bc2"
      },
      "source": [
        "print('Test Accuracy: ', accuracy_score(y_valid2,validation_predictions))"
      ],
      "execution_count": null,
      "outputs": [
        {
          "output_type": "stream",
          "text": [
            "Test Accuracy:  0.5118483412322274\n"
          ],
          "name": "stdout"
        }
      ]
    },
    {
      "cell_type": "markdown",
      "metadata": {
        "id": "nN-jXQKp61lc"
      },
      "source": [
        "Random Forest Classifier using labelpower set"
      ]
    },
    {
      "cell_type": "code",
      "metadata": {
        "id": "CPW_EMkUwmlN"
      },
      "source": [
        "classifierrfc = LabelPowerset(\n",
        "    classifier = RandomForestClassifier(),\n",
        "    require_dense = [False, True]\n",
        ")"
      ],
      "execution_count": null,
      "outputs": []
    },
    {
      "cell_type": "code",
      "metadata": {
        "colab": {
          "base_uri": "https://localhost:8080/"
        },
        "id": "sNbOppJCw76L",
        "outputId": "45efaa3e-3f1d-4645-f9c5-d5c00b10e5a5"
      },
      "source": [
        "classifierrfc.fit(X_train2, y_train2)"
      ],
      "execution_count": null,
      "outputs": [
        {
          "output_type": "execute_result",
          "data": {
            "text/plain": [
              "LabelPowerset(classifier=RandomForestClassifier(), require_dense=[False, True])"
            ]
          },
          "metadata": {
            "tags": []
          },
          "execution_count": 51
        }
      ]
    },
    {
      "cell_type": "code",
      "metadata": {
        "id": "02dwAnOazRJ7"
      },
      "source": [
        "y_predvalidation = classifierrfc.predict(X_valid2)"
      ],
      "execution_count": null,
      "outputs": []
    },
    {
      "cell_type": "code",
      "metadata": {
        "id": "W0ECZSjcxKYi"
      },
      "source": [
        "y_pred = classifierrfc.predict(X_test2)"
      ],
      "execution_count": null,
      "outputs": []
    },
    {
      "cell_type": "code",
      "metadata": {
        "id": "igPPflqxyEad"
      },
      "source": [
        "y_predtrain = classifierrfc.predict(X_train2)"
      ],
      "execution_count": null,
      "outputs": []
    },
    {
      "cell_type": "code",
      "metadata": {
        "colab": {
          "base_uri": "https://localhost:8080/"
        },
        "id": "LtGL5DPnxalC",
        "outputId": "dd53ba48-faaf-4348-9eec-93b8e7a715cf"
      },
      "source": [
        "print('the test accuracy:', accuracy_score(y_test2,y_pred))"
      ],
      "execution_count": null,
      "outputs": [
        {
          "output_type": "stream",
          "text": [
            "the test accuracy: 0.983451536643026\n"
          ],
          "name": "stdout"
        }
      ]
    },
    {
      "cell_type": "code",
      "metadata": {
        "colab": {
          "base_uri": "https://localhost:8080/"
        },
        "id": "jNsTAVEkyOJN",
        "outputId": "865b1dd9-c239-48e3-ca4c-ad5fd1e81e95"
      },
      "source": [
        "print('the train accuracy:', accuracy_score(y_train2,y_predtrain))"
      ],
      "execution_count": null,
      "outputs": [
        {
          "output_type": "stream",
          "text": [
            "the train accuracy: 1.0\n"
          ],
          "name": "stdout"
        }
      ]
    },
    {
      "cell_type": "code",
      "metadata": {
        "colab": {
          "base_uri": "https://localhost:8080/"
        },
        "id": "ynD_XxmVzZpn",
        "outputId": "c5710c7a-bdbd-422e-fea7-f916c70f7753"
      },
      "source": [
        "print('the validation accuracy:', accuracy_score(y_valid2,y_predvalidation))"
      ],
      "execution_count": null,
      "outputs": [
        {
          "output_type": "stream",
          "text": [
            "the validation accuracy: 0.9881516587677726\n"
          ],
          "name": "stdout"
        }
      ]
    },
    {
      "cell_type": "markdown",
      "metadata": {
        "id": "azxV5O5XPaOW"
      },
      "source": [
        "## Classification of People based on Obesity Level "
      ]
    },
    {
      "cell_type": "code",
      "metadata": {
        "id": "_pLjiJ6FPaOW",
        "outputId": "51be49f5-010d-4d1c-8b66-7097a8ff59ba"
      },
      "source": [
        "obesity = pd.read_csv(\"data_clean.csv\")\n",
        "obesity.head()"
      ],
      "execution_count": null,
      "outputs": [
        {
          "output_type": "execute_result",
          "data": {
            "text/html": [
              "<div>\n",
              "<style scoped>\n",
              "    .dataframe tbody tr th:only-of-type {\n",
              "        vertical-align: middle;\n",
              "    }\n",
              "\n",
              "    .dataframe tbody tr th {\n",
              "        vertical-align: top;\n",
              "    }\n",
              "\n",
              "    .dataframe thead th {\n",
              "        text-align: right;\n",
              "    }\n",
              "</style>\n",
              "<table border=\"1\" class=\"dataframe\">\n",
              "  <thead>\n",
              "    <tr style=\"text-align: right;\">\n",
              "      <th></th>\n",
              "      <th>Age</th>\n",
              "      <th>Weight</th>\n",
              "      <th>FCVC</th>\n",
              "      <th>NCP</th>\n",
              "      <th>CH2O</th>\n",
              "      <th>FAF</th>\n",
              "      <th>Gender</th>\n",
              "      <th>family_history_with_overweight</th>\n",
              "      <th>FAVC</th>\n",
              "      <th>CAEC_Always</th>\n",
              "      <th>...</th>\n",
              "      <th>NObeyesdad_Normal_Weight</th>\n",
              "      <th>NObeyesdad_Obesity_Type_I</th>\n",
              "      <th>NObeyesdad_Obesity_Type_II</th>\n",
              "      <th>NObeyesdad_Obesity_Type_III</th>\n",
              "      <th>NObeyesdad_Overweight_Level_I</th>\n",
              "      <th>NObeyesdad_Overweight_Level_II</th>\n",
              "      <th>Age_Group_(13.999, 19.0]</th>\n",
              "      <th>Age_Group_(19.0, 22.0]</th>\n",
              "      <th>Age_Group_(22.0, 26.0]</th>\n",
              "      <th>Age_Group_(26.0, 61.0]</th>\n",
              "    </tr>\n",
              "  </thead>\n",
              "  <tbody>\n",
              "    <tr>\n",
              "      <th>0</th>\n",
              "      <td>0.148936</td>\n",
              "      <td>0.186567</td>\n",
              "      <td>0.5</td>\n",
              "      <td>0.666667</td>\n",
              "      <td>0.5</td>\n",
              "      <td>0.000000</td>\n",
              "      <td>1.0</td>\n",
              "      <td>1.0</td>\n",
              "      <td>0.0</td>\n",
              "      <td>0.0</td>\n",
              "      <td>...</td>\n",
              "      <td>1.0</td>\n",
              "      <td>0.0</td>\n",
              "      <td>0.0</td>\n",
              "      <td>0.0</td>\n",
              "      <td>0.0</td>\n",
              "      <td>0.0</td>\n",
              "      <td>0.0</td>\n",
              "      <td>1.0</td>\n",
              "      <td>0.0</td>\n",
              "      <td>0.0</td>\n",
              "    </tr>\n",
              "    <tr>\n",
              "      <th>1</th>\n",
              "      <td>0.148936</td>\n",
              "      <td>0.126866</td>\n",
              "      <td>1.0</td>\n",
              "      <td>0.666667</td>\n",
              "      <td>1.0</td>\n",
              "      <td>1.000000</td>\n",
              "      <td>1.0</td>\n",
              "      <td>1.0</td>\n",
              "      <td>0.0</td>\n",
              "      <td>0.0</td>\n",
              "      <td>...</td>\n",
              "      <td>1.0</td>\n",
              "      <td>0.0</td>\n",
              "      <td>0.0</td>\n",
              "      <td>0.0</td>\n",
              "      <td>0.0</td>\n",
              "      <td>0.0</td>\n",
              "      <td>0.0</td>\n",
              "      <td>1.0</td>\n",
              "      <td>0.0</td>\n",
              "      <td>0.0</td>\n",
              "    </tr>\n",
              "    <tr>\n",
              "      <th>2</th>\n",
              "      <td>0.191489</td>\n",
              "      <td>0.283582</td>\n",
              "      <td>0.5</td>\n",
              "      <td>0.666667</td>\n",
              "      <td>0.5</td>\n",
              "      <td>0.666667</td>\n",
              "      <td>0.0</td>\n",
              "      <td>1.0</td>\n",
              "      <td>0.0</td>\n",
              "      <td>0.0</td>\n",
              "      <td>...</td>\n",
              "      <td>1.0</td>\n",
              "      <td>0.0</td>\n",
              "      <td>0.0</td>\n",
              "      <td>0.0</td>\n",
              "      <td>0.0</td>\n",
              "      <td>0.0</td>\n",
              "      <td>0.0</td>\n",
              "      <td>0.0</td>\n",
              "      <td>1.0</td>\n",
              "      <td>0.0</td>\n",
              "    </tr>\n",
              "    <tr>\n",
              "      <th>3</th>\n",
              "      <td>0.276596</td>\n",
              "      <td>0.358209</td>\n",
              "      <td>1.0</td>\n",
              "      <td>0.666667</td>\n",
              "      <td>0.5</td>\n",
              "      <td>0.666667</td>\n",
              "      <td>0.0</td>\n",
              "      <td>0.0</td>\n",
              "      <td>0.0</td>\n",
              "      <td>0.0</td>\n",
              "      <td>...</td>\n",
              "      <td>0.0</td>\n",
              "      <td>0.0</td>\n",
              "      <td>0.0</td>\n",
              "      <td>0.0</td>\n",
              "      <td>1.0</td>\n",
              "      <td>0.0</td>\n",
              "      <td>0.0</td>\n",
              "      <td>0.0</td>\n",
              "      <td>0.0</td>\n",
              "      <td>1.0</td>\n",
              "    </tr>\n",
              "    <tr>\n",
              "      <th>4</th>\n",
              "      <td>0.170213</td>\n",
              "      <td>0.379104</td>\n",
              "      <td>0.5</td>\n",
              "      <td>0.000000</td>\n",
              "      <td>0.5</td>\n",
              "      <td>0.000000</td>\n",
              "      <td>0.0</td>\n",
              "      <td>0.0</td>\n",
              "      <td>0.0</td>\n",
              "      <td>0.0</td>\n",
              "      <td>...</td>\n",
              "      <td>0.0</td>\n",
              "      <td>0.0</td>\n",
              "      <td>0.0</td>\n",
              "      <td>0.0</td>\n",
              "      <td>0.0</td>\n",
              "      <td>1.0</td>\n",
              "      <td>0.0</td>\n",
              "      <td>1.0</td>\n",
              "      <td>0.0</td>\n",
              "      <td>0.0</td>\n",
              "    </tr>\n",
              "  </tbody>\n",
              "</table>\n",
              "<p>5 rows × 35 columns</p>\n",
              "</div>"
            ],
            "text/plain": [
              "        Age    Weight  FCVC       NCP  CH2O       FAF  Gender  \\\n",
              "0  0.148936  0.186567   0.5  0.666667   0.5  0.000000     1.0   \n",
              "1  0.148936  0.126866   1.0  0.666667   1.0  1.000000     1.0   \n",
              "2  0.191489  0.283582   0.5  0.666667   0.5  0.666667     0.0   \n",
              "3  0.276596  0.358209   1.0  0.666667   0.5  0.666667     0.0   \n",
              "4  0.170213  0.379104   0.5  0.000000   0.5  0.000000     0.0   \n",
              "\n",
              "   family_history_with_overweight  FAVC  CAEC_Always  ...  \\\n",
              "0                             1.0   0.0          0.0  ...   \n",
              "1                             1.0   0.0          0.0  ...   \n",
              "2                             1.0   0.0          0.0  ...   \n",
              "3                             0.0   0.0          0.0  ...   \n",
              "4                             0.0   0.0          0.0  ...   \n",
              "\n",
              "   NObeyesdad_Normal_Weight  NObeyesdad_Obesity_Type_I  \\\n",
              "0                       1.0                        0.0   \n",
              "1                       1.0                        0.0   \n",
              "2                       1.0                        0.0   \n",
              "3                       0.0                        0.0   \n",
              "4                       0.0                        0.0   \n",
              "\n",
              "   NObeyesdad_Obesity_Type_II  NObeyesdad_Obesity_Type_III  \\\n",
              "0                         0.0                          0.0   \n",
              "1                         0.0                          0.0   \n",
              "2                         0.0                          0.0   \n",
              "3                         0.0                          0.0   \n",
              "4                         0.0                          0.0   \n",
              "\n",
              "   NObeyesdad_Overweight_Level_I  NObeyesdad_Overweight_Level_II  \\\n",
              "0                            0.0                             0.0   \n",
              "1                            0.0                             0.0   \n",
              "2                            0.0                             0.0   \n",
              "3                            1.0                             0.0   \n",
              "4                            0.0                             1.0   \n",
              "\n",
              "   Age_Group_(13.999, 19.0]  Age_Group_(19.0, 22.0]  Age_Group_(22.0, 26.0]  \\\n",
              "0                       0.0                     1.0                     0.0   \n",
              "1                       0.0                     1.0                     0.0   \n",
              "2                       0.0                     0.0                     1.0   \n",
              "3                       0.0                     0.0                     0.0   \n",
              "4                       0.0                     1.0                     0.0   \n",
              "\n",
              "   Age_Group_(26.0, 61.0]  \n",
              "0                     0.0  \n",
              "1                     0.0  \n",
              "2                     0.0  \n",
              "3                     1.0  \n",
              "4                     0.0  \n",
              "\n",
              "[5 rows x 35 columns]"
            ]
          },
          "metadata": {
            "tags": []
          },
          "execution_count": 70
        }
      ]
    },
    {
      "cell_type": "code",
      "metadata": {
        "id": "_3V_RueOPaOX"
      },
      "source": [
        "def obesity_level(X,y,z):\n",
        "    train_size=0.6\n",
        "    Xtrain, Xremaining, ytrain, yremaining = train_test_split(X,y, train_size=0.6, shuffle= True)\n",
        "    test_size = 0.5\n",
        "    Xtest, Xvalidation, ytest, yvalidation = train_test_split(Xremaining,yremaining, test_size=0.5, shuffle= True)\n",
        "    \n",
        "    # \"Support vector classifier\"\n",
        "    model = SVC(kernel='poly', C=1E10)\n",
        "    model.fit(Xtrain, ytrain)\n",
        "    ypred = model.predict(Xtest)\n",
        "    ypredvalidation = model.predict(Xvalidation)\n",
        "    \n",
        "\n",
        "    accuracy_hard_margin = accuracy_score(ytest,ypred)\n",
        "    accuracy_hard_margin_valid = accuracy_score(yvalidation,ypredvalidation)\n",
        "    return accuracy_hard_margin,accuracy_hard_margin_valid,z"
      ],
      "execution_count": null,
      "outputs": []
    },
    {
      "cell_type": "code",
      "metadata": {
        "id": "HQ0Zqbu2PaOX"
      },
      "source": [
        "def append_accuracy_name(X,Y,Z,arr,arr_val,name):\n",
        "    accuracy,accuracy_validation ,obese_type = obesity_level(X,Y,Z)\n",
        "    arr.append(accuracy)\n",
        "    arr_val.append(accuracy_validation)\n",
        "    name.append(obese_type)\n",
        "    return arr,name,arr_val"
      ],
      "execution_count": null,
      "outputs": []
    },
    {
      "cell_type": "code",
      "metadata": {
        "id": "Lzw_kHwdPaOX"
      },
      "source": [
        "X = obesity[['Age', 'Weight', 'FCVC', 'NCP','CH2O','FAF','Gender','family_history_with_overweight','FAVC','CAEC_Always','CAEC_Frequently','CAEC_Sometimes','CAEC_no','SMOKE','SCC',\n",
        "        'CALC_Always','CALC_Frequently','CALC_Sometimes','CAEC_no','MTRANS_Automobile','MTRANS_Bike','MTRANS_Motorbike','MTRANS_Public_Transportation','MTRANS_Walking']]\n",
        "arr = []\n",
        "arr_val = []\n",
        "name = []\n",
        "arr, name, arr_val = append_accuracy_name(X,obesity['NObeyesdad_Insufficient_Weight'],'Insufficient_Weight',arr,arr_val,name)\n",
        "arr, name, arr_val = append_accuracy_name(X,obesity['NObeyesdad_Normal_Weight'],'Normal_Weight',arr,arr_val,name)\n",
        "arr, name, arr_val = append_accuracy_name(X,obesity['NObeyesdad_Obesity_Type_I'],'Obesity_Type_I',arr,arr_val,name)\n",
        "arr, name, arr_val = append_accuracy_name(X,obesity['NObeyesdad_Obesity_Type_II'],'Obesity_Type_II',arr,arr_val,name)\n",
        "arr, name, arr_val = append_accuracy_name(X,obesity['NObeyesdad_Obesity_Type_III'],'Obesity_Type_III',arr,arr_val,name)\n",
        "arr, name, arr_val = append_accuracy_name(X,obesity['NObeyesdad_Overweight_Level_I'],'Overweight_Level_I',arr,arr_val,name)\n",
        "arr, name, arr_val = append_accuracy_name(X,obesity['NObeyesdad_Overweight_Level_II'],'Overweight_Level_II',arr,arr_val,name)"
      ],
      "execution_count": null,
      "outputs": []
    },
    {
      "cell_type": "code",
      "metadata": {
        "id": "lAOs4VQnPaOY",
        "outputId": "5fb7d396-4d2f-4c7d-e567-fe6b62bc183b"
      },
      "source": [
        "svm_model_accuracy = {'Obesity_Type': name,'accuracy': arr,'validation_accuracy':arr_val}\n",
        "df_heatmap = pd.DataFrame(svm_model_accuracy, columns = ['Obesity_Type', 'accuracy','validation_accuracy'])\n",
        "df2 = pd.DataFrame({\"accuracy\":df_heatmap['accuracy'],\"accuracy_val\":df_heatmap['validation_accuracy']})\n",
        "sns.heatmap(df2)\n",
        "plt.show()"
      ],
      "execution_count": null,
      "outputs": [
        {
          "output_type": "display_data",
          "data": {
            "image/png": "[encoded data removed]",
            "text/plain": [
              "<Figure size 432x288 with 2 Axes>"
            ]
          },
          "metadata": {
            "tags": [],
            "needs_background": "light"
          }
        }
      ]
    },
    {
      "cell_type": "code",
      "metadata": {
        "id": "U1akVPxEPaOY",
        "outputId": "d6cd98d2-1eb9-480d-8fcd-79739e16c2ac"
      },
      "source": [
        "plt.plot(df2, linestyle = 'solid')\n",
        "plt.show()"
      ],
      "execution_count": null,
      "outputs": [
        {
          "output_type": "display_data",
          "data": {
            "image/png": "[encoded data removed]",
            "text/plain": [
              "<Figure size 432x288 with 1 Axes>"
            ]
          },
          "metadata": {
            "tags": [],
            "needs_background": "light"
          }
        }
      ]
    },
    {
      "cell_type": "markdown",
      "metadata": {
        "id": "5YvTgnUfPaOZ"
      },
      "source": [
        "## Classification of People based on Transportation Mode "
      ]
    },
    {
      "cell_type": "code",
      "metadata": {
        "id": "iTwyoUZsPaOZ"
      },
      "source": [
        "def transportation_classification(X,y,z):\n",
        "    train_size=0.6\n",
        "    Xtrain, Xremaining, ytrain, yremaining = train_test_split(X,y, train_size=0.6, shuffle= True)\n",
        "    test_size = 0.5\n",
        "    Xtest, Xvalidation, ytest, yvalidation = train_test_split(Xremaining,yremaining, test_size=0.5, shuffle= True)\n",
        "    #Split into training and test data (60/40)\n",
        "    #Xtrain, Xtest, ytrain, ytest = train_test_split(X, y, test_size = 0.4, random_state = 42)\n",
        "    model = RandomForestClassifier(n_estimators=1000)\n",
        "    model.fit(Xtrain, ytrain)\n",
        "    y_pred = model.predict(Xtest)\n",
        "    ypredvalidation = model.predict(Xvalidation)\n",
        "    \n",
        "    accuracy = accuracy_score(ytest,y_pred)\n",
        "    accuracy_valid = accuracy_score(yvalidation,ypredvalidation)\n",
        "    return accuracy,accuracy_valid,z"
      ],
      "execution_count": null,
      "outputs": []
    },
    {
      "cell_type": "code",
      "metadata": {
        "id": "Cf4-bVSyPaOa"
      },
      "source": [
        "X = obesity[['Age', 'Weight', 'FCVC', 'NCP','CH2O','FAF','Gender','family_history_with_overweight','FAVC','CAEC_Always','CAEC_Frequently','CAEC_Sometimes','CAEC_no','SMOKE','SCC',\n",
        "        'CALC_Always','CALC_Frequently','CALC_Sometimes','CAEC_no','NObeyesdad_Insufficient_Weight','NObeyesdad_Normal_Weight','NObeyesdad_Obesity_Type_I','NObeyesdad_Obesity_Type_II','NObeyesdad_Obesity_Type_III','NObeyesdad_Overweight_Level_I','NObeyesdad_Overweight_Level_II']]"
      ],
      "execution_count": null,
      "outputs": []
    },
    {
      "cell_type": "code",
      "metadata": {
        "id": "GDhurHcKPaOa"
      },
      "source": [
        "def append_accuracy_name(X,Y,Z,arr,arr_validate,name):\n",
        "    accuracy ,accuracy_validation, transportation_type = transportation_classification(X,Y,Z)\n",
        "    arr.append(accuracy)\n",
        "    arr_validate.append(accuracy_validation)\n",
        "    name.append(transportation_type)\n",
        "    return arr,name,arr_validate"
      ],
      "execution_count": null,
      "outputs": []
    },
    {
      "cell_type": "code",
      "metadata": {
        "id": "wcll2MhmPaOb"
      },
      "source": [
        "arr = []\n",
        "arr_validate = []\n",
        "name = []\n",
        "arr, name, arr_validate = append_accuracy_name(X,obesity['MTRANS_Automobile'],'Automobile',arr,arr_validate,name)\n",
        "arr, name, arr_validate = append_accuracy_name(X,obesity['MTRANS_Bike'],'Bike',arr,arr_validate,name)\n",
        "arr, name, arr_validate = append_accuracy_name(X,obesity['MTRANS_Motorbike'],'Motorbike',arr,arr_validate,name)\n",
        "arr, name, arr_validate = append_accuracy_name(X,obesity['MTRANS_Public_Transportation'],'Public_Transportation',arr,arr_validate,name)\n",
        "arr, name, arr_validate = append_accuracy_name(X,obesity['MTRANS_Walking'],'Walking',arr,arr_validate,name)"
      ],
      "execution_count": null,
      "outputs": []
    },
    {
      "cell_type": "code",
      "metadata": {
        "id": "odPjIpHrPaOb",
        "outputId": "6c3c72c0-7005-4e75-cea7-b7b9a76ed19f"
      },
      "source": [
        "randomforest_model_accuracy = {'transportation_type': name,'accuracy': arr, 'validation_accuracy':arr_validate}\n",
        "df = pd.DataFrame(randomforest_model_accuracy, columns = ['transportation_type', 'accuracy','validation_accuracy'])\n",
        "df2 = pd.DataFrame({\"accuracy\":df['accuracy'],\"accuracy_val\":df['validation_accuracy']})\n",
        "sns.heatmap(df2)\n",
        "plt.show()"
      ],
      "execution_count": null,
      "outputs": [
        {
          "output_type": "display_data",
          "data": {
            "image/png": "[encoded data removed]",
            "text/plain": [
              "<Figure size 432x288 with 2 Axes>"
            ]
          },
          "metadata": {
            "tags": [],
            "needs_background": "light"
          }
        }
      ]
    },
    {
      "cell_type": "code",
      "metadata": {
        "id": "a6mteQfrPaOc",
        "outputId": "bec71cdb-3baf-4345-dce4-4950634023ae"
      },
      "source": [
        "plt.plot(df2, linestyle = 'solid')\n",
        "plt.show()"
      ],
      "execution_count": null,
      "outputs": [
        {
          "output_type": "display_data",
          "data": {
            "image/png": "[encoded data removed]",
            "text/plain": [
              "<Figure size 432x288 with 1 Axes>"
            ]
          },
          "metadata": {
            "tags": [],
            "needs_background": "light"
          }
        }
      ]
    }
  ]
}