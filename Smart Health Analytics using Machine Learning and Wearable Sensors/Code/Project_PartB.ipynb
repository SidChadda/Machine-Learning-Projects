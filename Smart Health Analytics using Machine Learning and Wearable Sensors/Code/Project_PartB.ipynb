{
  "nbformat": 4,
  "nbformat_minor": 0,
  "metadata": {
    "colab": {
      "name": "Final_Project.ipynb",
      "provenance": [],
      "collapsed_sections": []
    },
    "kernelspec": {
      "name": "python3",
      "display_name": "Python 3"
    },
    "language_info": {
      "name": "python"
    },
    "accelerator": "GPU"
  },
  "cells": [
    {
      "cell_type": "code",
      "metadata": {
        "id": "afL8O2ppe0hD"
      },
      "source": [
        "import numpy as np\n",
        "import random\n",
        "np.random.seed(1337)\n",
        "random.seed(1337)"
      ],
      "execution_count": null,
      "outputs": []
    },
    {
      "cell_type": "code",
      "metadata": {
        "id": "okRkeztjYTcI"
      },
      "source": [
        "# Plotting support\n",
        "from matplotlib import pyplot as plt\n",
        "%matplotlib inline\n",
        "\n",
        "# Standard libraries\n",
        "import pandas as pd"
      ],
      "execution_count": null,
      "outputs": []
    },
    {
      "cell_type": "code",
      "metadata": {
        "colab": {
          "base_uri": "https://localhost:8080/"
        },
        "id": "o1MOvgXU-6Dl",
        "outputId": "537d814b-4299-4ad1-bfaf-e4ade7fc210c"
      },
      "source": [
        "from google.colab import drive\n",
        "drive.mount('/content/drive')"
      ],
      "execution_count": null,
      "outputs": [
        {
          "output_type": "stream",
          "text": [
            "Drive already mounted at /content/drive; to attempt to forcibly remount, call drive.mount(\"/content/drive\", force_remount=True).\n"
          ],
          "name": "stdout"
        }
      ]
    },
    {
      "cell_type": "markdown",
      "metadata": {
        "id": "Pa3zzDHvZXJQ"
      },
      "source": [
        "<u>Loading Data</u>"
      ]
    },
    {
      "cell_type": "code",
      "metadata": {
        "id": "Wlxw19ygk_-y"
      },
      "source": [
        "df       = pd.read_csv(\"/content/drive/MyDrive/CSC 503 - Data Mining/Project/Data/train.csv\")\n",
        "df_test  = pd.read_csv(\"/content/drive/MyDrive/CSC 503 - Data Mining/Project/Data/test.csv\")"
      ],
      "execution_count": null,
      "outputs": []
    },
    {
      "cell_type": "code",
      "metadata": {
        "colab": {
          "base_uri": "https://localhost:8080/",
          "height": 289
        },
        "id": "9nR9NL7WmPAK",
        "outputId": "89ca33d4-88f1-4829-a8e9-3b64917aa081"
      },
      "source": [
        "df.head()"
      ],
      "execution_count": null,
      "outputs": [
        {
          "output_type": "execute_result",
          "data": {
            "text/html": [
              "<div>\n",
              "<style scoped>\n",
              "    .dataframe tbody tr th:only-of-type {\n",
              "        vertical-align: middle;\n",
              "    }\n",
              "\n",
              "    .dataframe tbody tr th {\n",
              "        vertical-align: top;\n",
              "    }\n",
              "\n",
              "    .dataframe thead th {\n",
              "        text-align: right;\n",
              "    }\n",
              "</style>\n",
              "<table border=\"1\" class=\"dataframe\">\n",
              "  <thead>\n",
              "    <tr style=\"text-align: right;\">\n",
              "      <th></th>\n",
              "      <th>tBodyAcc-mean()-X</th>\n",
              "      <th>tBodyAcc-mean()-Y</th>\n",
              "      <th>tBodyAcc-mean()-Z</th>\n",
              "      <th>tBodyAcc-std()-X</th>\n",
              "      <th>tBodyAcc-std()-Y</th>\n",
              "      <th>tBodyAcc-std()-Z</th>\n",
              "      <th>tBodyAcc-mad()-X</th>\n",
              "      <th>tBodyAcc-mad()-Y</th>\n",
              "      <th>tBodyAcc-mad()-Z</th>\n",
              "      <th>tBodyAcc-max()-X</th>\n",
              "      <th>tBodyAcc-max()-Y</th>\n",
              "      <th>tBodyAcc-max()-Z</th>\n",
              "      <th>tBodyAcc-min()-X</th>\n",
              "      <th>tBodyAcc-min()-Y</th>\n",
              "      <th>tBodyAcc-min()-Z</th>\n",
              "      <th>tBodyAcc-sma()</th>\n",
              "      <th>tBodyAcc-energy()-X</th>\n",
              "      <th>tBodyAcc-energy()-Y</th>\n",
              "      <th>tBodyAcc-energy()-Z</th>\n",
              "      <th>tBodyAcc-iqr()-X</th>\n",
              "      <th>tBodyAcc-iqr()-Y</th>\n",
              "      <th>tBodyAcc-iqr()-Z</th>\n",
              "      <th>tBodyAcc-entropy()-X</th>\n",
              "      <th>tBodyAcc-entropy()-Y</th>\n",
              "      <th>tBodyAcc-entropy()-Z</th>\n",
              "      <th>tBodyAcc-arCoeff()-X,1</th>\n",
              "      <th>tBodyAcc-arCoeff()-X,2</th>\n",
              "      <th>tBodyAcc-arCoeff()-X,3</th>\n",
              "      <th>tBodyAcc-arCoeff()-X,4</th>\n",
              "      <th>tBodyAcc-arCoeff()-Y,1</th>\n",
              "      <th>tBodyAcc-arCoeff()-Y,2</th>\n",
              "      <th>tBodyAcc-arCoeff()-Y,3</th>\n",
              "      <th>tBodyAcc-arCoeff()-Y,4</th>\n",
              "      <th>tBodyAcc-arCoeff()-Z,1</th>\n",
              "      <th>tBodyAcc-arCoeff()-Z,2</th>\n",
              "      <th>tBodyAcc-arCoeff()-Z,3</th>\n",
              "      <th>tBodyAcc-arCoeff()-Z,4</th>\n",
              "      <th>tBodyAcc-correlation()-X,Y</th>\n",
              "      <th>tBodyAcc-correlation()-X,Z</th>\n",
              "      <th>tBodyAcc-correlation()-Y,Z</th>\n",
              "      <th>...</th>\n",
              "      <th>fBodyBodyAccJerkMag-entropy()</th>\n",
              "      <th>fBodyBodyAccJerkMag-maxInds</th>\n",
              "      <th>fBodyBodyAccJerkMag-meanFreq()</th>\n",
              "      <th>fBodyBodyAccJerkMag-skewness()</th>\n",
              "      <th>fBodyBodyAccJerkMag-kurtosis()</th>\n",
              "      <th>fBodyBodyGyroMag-mean()</th>\n",
              "      <th>fBodyBodyGyroMag-std()</th>\n",
              "      <th>fBodyBodyGyroMag-mad()</th>\n",
              "      <th>fBodyBodyGyroMag-max()</th>\n",
              "      <th>fBodyBodyGyroMag-min()</th>\n",
              "      <th>fBodyBodyGyroMag-sma()</th>\n",
              "      <th>fBodyBodyGyroMag-energy()</th>\n",
              "      <th>fBodyBodyGyroMag-iqr()</th>\n",
              "      <th>fBodyBodyGyroMag-entropy()</th>\n",
              "      <th>fBodyBodyGyroMag-maxInds</th>\n",
              "      <th>fBodyBodyGyroMag-meanFreq()</th>\n",
              "      <th>fBodyBodyGyroMag-skewness()</th>\n",
              "      <th>fBodyBodyGyroMag-kurtosis()</th>\n",
              "      <th>fBodyBodyGyroJerkMag-mean()</th>\n",
              "      <th>fBodyBodyGyroJerkMag-std()</th>\n",
              "      <th>fBodyBodyGyroJerkMag-mad()</th>\n",
              "      <th>fBodyBodyGyroJerkMag-max()</th>\n",
              "      <th>fBodyBodyGyroJerkMag-min()</th>\n",
              "      <th>fBodyBodyGyroJerkMag-sma()</th>\n",
              "      <th>fBodyBodyGyroJerkMag-energy()</th>\n",
              "      <th>fBodyBodyGyroJerkMag-iqr()</th>\n",
              "      <th>fBodyBodyGyroJerkMag-entropy()</th>\n",
              "      <th>fBodyBodyGyroJerkMag-maxInds</th>\n",
              "      <th>fBodyBodyGyroJerkMag-meanFreq()</th>\n",
              "      <th>fBodyBodyGyroJerkMag-skewness()</th>\n",
              "      <th>fBodyBodyGyroJerkMag-kurtosis()</th>\n",
              "      <th>angle(tBodyAccMean,gravity)</th>\n",
              "      <th>angle(tBodyAccJerkMean),gravityMean)</th>\n",
              "      <th>angle(tBodyGyroMean,gravityMean)</th>\n",
              "      <th>angle(tBodyGyroJerkMean,gravityMean)</th>\n",
              "      <th>angle(X,gravityMean)</th>\n",
              "      <th>angle(Y,gravityMean)</th>\n",
              "      <th>angle(Z,gravityMean)</th>\n",
              "      <th>subject</th>\n",
              "      <th>Activity</th>\n",
              "    </tr>\n",
              "  </thead>\n",
              "  <tbody>\n",
              "    <tr>\n",
              "      <th>0</th>\n",
              "      <td>0.288585</td>\n",
              "      <td>-0.020294</td>\n",
              "      <td>-0.132905</td>\n",
              "      <td>-0.995279</td>\n",
              "      <td>-0.983111</td>\n",
              "      <td>-0.913526</td>\n",
              "      <td>-0.995112</td>\n",
              "      <td>-0.983185</td>\n",
              "      <td>-0.923527</td>\n",
              "      <td>-0.934724</td>\n",
              "      <td>-0.567378</td>\n",
              "      <td>-0.744413</td>\n",
              "      <td>0.852947</td>\n",
              "      <td>0.685845</td>\n",
              "      <td>0.814263</td>\n",
              "      <td>-0.965523</td>\n",
              "      <td>-0.999945</td>\n",
              "      <td>-0.999863</td>\n",
              "      <td>-0.994612</td>\n",
              "      <td>-0.994231</td>\n",
              "      <td>-0.987614</td>\n",
              "      <td>-0.943220</td>\n",
              "      <td>-0.407747</td>\n",
              "      <td>-0.679338</td>\n",
              "      <td>-0.602122</td>\n",
              "      <td>0.929294</td>\n",
              "      <td>-0.853011</td>\n",
              "      <td>0.359910</td>\n",
              "      <td>-0.058526</td>\n",
              "      <td>0.256892</td>\n",
              "      <td>-0.224848</td>\n",
              "      <td>0.264106</td>\n",
              "      <td>-0.095246</td>\n",
              "      <td>0.278851</td>\n",
              "      <td>-0.465085</td>\n",
              "      <td>0.491936</td>\n",
              "      <td>-0.190884</td>\n",
              "      <td>0.376314</td>\n",
              "      <td>0.435129</td>\n",
              "      <td>0.660790</td>\n",
              "      <td>...</td>\n",
              "      <td>-1.0</td>\n",
              "      <td>-0.936508</td>\n",
              "      <td>0.346989</td>\n",
              "      <td>-0.516080</td>\n",
              "      <td>-0.802760</td>\n",
              "      <td>-0.980135</td>\n",
              "      <td>-0.961309</td>\n",
              "      <td>-0.973653</td>\n",
              "      <td>-0.952264</td>\n",
              "      <td>-0.989498</td>\n",
              "      <td>-0.980135</td>\n",
              "      <td>-0.999240</td>\n",
              "      <td>-0.992656</td>\n",
              "      <td>-0.701291</td>\n",
              "      <td>-1.000000</td>\n",
              "      <td>-0.128989</td>\n",
              "      <td>0.586156</td>\n",
              "      <td>0.374605</td>\n",
              "      <td>-0.991990</td>\n",
              "      <td>-0.990697</td>\n",
              "      <td>-0.989941</td>\n",
              "      <td>-0.992448</td>\n",
              "      <td>-0.991048</td>\n",
              "      <td>-0.991990</td>\n",
              "      <td>-0.999937</td>\n",
              "      <td>-0.990458</td>\n",
              "      <td>-0.871306</td>\n",
              "      <td>-1.000000</td>\n",
              "      <td>-0.074323</td>\n",
              "      <td>-0.298676</td>\n",
              "      <td>-0.710304</td>\n",
              "      <td>-0.112754</td>\n",
              "      <td>0.030400</td>\n",
              "      <td>-0.464761</td>\n",
              "      <td>-0.018446</td>\n",
              "      <td>-0.841247</td>\n",
              "      <td>0.179941</td>\n",
              "      <td>-0.058627</td>\n",
              "      <td>1</td>\n",
              "      <td>STANDING</td>\n",
              "    </tr>\n",
              "    <tr>\n",
              "      <th>1</th>\n",
              "      <td>0.278419</td>\n",
              "      <td>-0.016411</td>\n",
              "      <td>-0.123520</td>\n",
              "      <td>-0.998245</td>\n",
              "      <td>-0.975300</td>\n",
              "      <td>-0.960322</td>\n",
              "      <td>-0.998807</td>\n",
              "      <td>-0.974914</td>\n",
              "      <td>-0.957686</td>\n",
              "      <td>-0.943068</td>\n",
              "      <td>-0.557851</td>\n",
              "      <td>-0.818409</td>\n",
              "      <td>0.849308</td>\n",
              "      <td>0.685845</td>\n",
              "      <td>0.822637</td>\n",
              "      <td>-0.981930</td>\n",
              "      <td>-0.999991</td>\n",
              "      <td>-0.999788</td>\n",
              "      <td>-0.998405</td>\n",
              "      <td>-0.999150</td>\n",
              "      <td>-0.977866</td>\n",
              "      <td>-0.948225</td>\n",
              "      <td>-0.714892</td>\n",
              "      <td>-0.500930</td>\n",
              "      <td>-0.570979</td>\n",
              "      <td>0.611627</td>\n",
              "      <td>-0.329549</td>\n",
              "      <td>0.284213</td>\n",
              "      <td>0.284595</td>\n",
              "      <td>0.115705</td>\n",
              "      <td>-0.090963</td>\n",
              "      <td>0.294310</td>\n",
              "      <td>-0.281211</td>\n",
              "      <td>0.085988</td>\n",
              "      <td>-0.022153</td>\n",
              "      <td>-0.016657</td>\n",
              "      <td>-0.220643</td>\n",
              "      <td>-0.013429</td>\n",
              "      <td>-0.072692</td>\n",
              "      <td>0.579382</td>\n",
              "      <td>...</td>\n",
              "      <td>-1.0</td>\n",
              "      <td>-0.841270</td>\n",
              "      <td>0.532061</td>\n",
              "      <td>-0.624871</td>\n",
              "      <td>-0.900160</td>\n",
              "      <td>-0.988296</td>\n",
              "      <td>-0.983322</td>\n",
              "      <td>-0.982659</td>\n",
              "      <td>-0.986321</td>\n",
              "      <td>-0.991829</td>\n",
              "      <td>-0.988296</td>\n",
              "      <td>-0.999811</td>\n",
              "      <td>-0.993979</td>\n",
              "      <td>-0.720683</td>\n",
              "      <td>-0.948718</td>\n",
              "      <td>-0.271958</td>\n",
              "      <td>-0.336310</td>\n",
              "      <td>-0.720015</td>\n",
              "      <td>-0.995854</td>\n",
              "      <td>-0.996399</td>\n",
              "      <td>-0.995442</td>\n",
              "      <td>-0.996866</td>\n",
              "      <td>-0.994440</td>\n",
              "      <td>-0.995854</td>\n",
              "      <td>-0.999981</td>\n",
              "      <td>-0.994544</td>\n",
              "      <td>-1.000000</td>\n",
              "      <td>-1.000000</td>\n",
              "      <td>0.158075</td>\n",
              "      <td>-0.595051</td>\n",
              "      <td>-0.861499</td>\n",
              "      <td>0.053477</td>\n",
              "      <td>-0.007435</td>\n",
              "      <td>-0.732626</td>\n",
              "      <td>0.703511</td>\n",
              "      <td>-0.844788</td>\n",
              "      <td>0.180289</td>\n",
              "      <td>-0.054317</td>\n",
              "      <td>1</td>\n",
              "      <td>STANDING</td>\n",
              "    </tr>\n",
              "    <tr>\n",
              "      <th>2</th>\n",
              "      <td>0.279653</td>\n",
              "      <td>-0.019467</td>\n",
              "      <td>-0.113462</td>\n",
              "      <td>-0.995380</td>\n",
              "      <td>-0.967187</td>\n",
              "      <td>-0.978944</td>\n",
              "      <td>-0.996520</td>\n",
              "      <td>-0.963668</td>\n",
              "      <td>-0.977469</td>\n",
              "      <td>-0.938692</td>\n",
              "      <td>-0.557851</td>\n",
              "      <td>-0.818409</td>\n",
              "      <td>0.843609</td>\n",
              "      <td>0.682401</td>\n",
              "      <td>0.839344</td>\n",
              "      <td>-0.983478</td>\n",
              "      <td>-0.999969</td>\n",
              "      <td>-0.999660</td>\n",
              "      <td>-0.999470</td>\n",
              "      <td>-0.997130</td>\n",
              "      <td>-0.964810</td>\n",
              "      <td>-0.974675</td>\n",
              "      <td>-0.592235</td>\n",
              "      <td>-0.485821</td>\n",
              "      <td>-0.570979</td>\n",
              "      <td>0.273025</td>\n",
              "      <td>-0.086309</td>\n",
              "      <td>0.337202</td>\n",
              "      <td>-0.164739</td>\n",
              "      <td>0.017150</td>\n",
              "      <td>-0.074507</td>\n",
              "      <td>0.342256</td>\n",
              "      <td>-0.332564</td>\n",
              "      <td>0.239281</td>\n",
              "      <td>-0.136204</td>\n",
              "      <td>0.173863</td>\n",
              "      <td>-0.299493</td>\n",
              "      <td>-0.124698</td>\n",
              "      <td>-0.181105</td>\n",
              "      <td>0.608900</td>\n",
              "      <td>...</td>\n",
              "      <td>-1.0</td>\n",
              "      <td>-0.904762</td>\n",
              "      <td>0.660795</td>\n",
              "      <td>-0.724697</td>\n",
              "      <td>-0.928539</td>\n",
              "      <td>-0.989255</td>\n",
              "      <td>-0.986028</td>\n",
              "      <td>-0.984274</td>\n",
              "      <td>-0.990979</td>\n",
              "      <td>-0.995703</td>\n",
              "      <td>-0.989255</td>\n",
              "      <td>-0.999854</td>\n",
              "      <td>-0.993238</td>\n",
              "      <td>-0.736521</td>\n",
              "      <td>-0.794872</td>\n",
              "      <td>-0.212728</td>\n",
              "      <td>-0.535352</td>\n",
              "      <td>-0.871914</td>\n",
              "      <td>-0.995031</td>\n",
              "      <td>-0.995127</td>\n",
              "      <td>-0.994640</td>\n",
              "      <td>-0.996060</td>\n",
              "      <td>-0.995866</td>\n",
              "      <td>-0.995031</td>\n",
              "      <td>-0.999973</td>\n",
              "      <td>-0.993755</td>\n",
              "      <td>-1.000000</td>\n",
              "      <td>-0.555556</td>\n",
              "      <td>0.414503</td>\n",
              "      <td>-0.390748</td>\n",
              "      <td>-0.760104</td>\n",
              "      <td>-0.118559</td>\n",
              "      <td>0.177899</td>\n",
              "      <td>0.100699</td>\n",
              "      <td>0.808529</td>\n",
              "      <td>-0.848933</td>\n",
              "      <td>0.180637</td>\n",
              "      <td>-0.049118</td>\n",
              "      <td>1</td>\n",
              "      <td>STANDING</td>\n",
              "    </tr>\n",
              "    <tr>\n",
              "      <th>3</th>\n",
              "      <td>0.279174</td>\n",
              "      <td>-0.026201</td>\n",
              "      <td>-0.123283</td>\n",
              "      <td>-0.996091</td>\n",
              "      <td>-0.983403</td>\n",
              "      <td>-0.990675</td>\n",
              "      <td>-0.997099</td>\n",
              "      <td>-0.982750</td>\n",
              "      <td>-0.989302</td>\n",
              "      <td>-0.938692</td>\n",
              "      <td>-0.576159</td>\n",
              "      <td>-0.829711</td>\n",
              "      <td>0.843609</td>\n",
              "      <td>0.682401</td>\n",
              "      <td>0.837869</td>\n",
              "      <td>-0.986093</td>\n",
              "      <td>-0.999976</td>\n",
              "      <td>-0.999736</td>\n",
              "      <td>-0.999504</td>\n",
              "      <td>-0.997180</td>\n",
              "      <td>-0.983799</td>\n",
              "      <td>-0.986007</td>\n",
              "      <td>-0.627446</td>\n",
              "      <td>-0.850930</td>\n",
              "      <td>-0.911872</td>\n",
              "      <td>0.061436</td>\n",
              "      <td>0.074840</td>\n",
              "      <td>0.198204</td>\n",
              "      <td>-0.264307</td>\n",
              "      <td>0.072545</td>\n",
              "      <td>-0.155320</td>\n",
              "      <td>0.323154</td>\n",
              "      <td>-0.170813</td>\n",
              "      <td>0.294938</td>\n",
              "      <td>-0.306081</td>\n",
              "      <td>0.482148</td>\n",
              "      <td>-0.470129</td>\n",
              "      <td>-0.305693</td>\n",
              "      <td>-0.362654</td>\n",
              "      <td>0.507459</td>\n",
              "      <td>...</td>\n",
              "      <td>-1.0</td>\n",
              "      <td>1.000000</td>\n",
              "      <td>0.678921</td>\n",
              "      <td>-0.701131</td>\n",
              "      <td>-0.909639</td>\n",
              "      <td>-0.989413</td>\n",
              "      <td>-0.987836</td>\n",
              "      <td>-0.986850</td>\n",
              "      <td>-0.986749</td>\n",
              "      <td>-0.996199</td>\n",
              "      <td>-0.989413</td>\n",
              "      <td>-0.999876</td>\n",
              "      <td>-0.989136</td>\n",
              "      <td>-0.720891</td>\n",
              "      <td>-1.000000</td>\n",
              "      <td>-0.035684</td>\n",
              "      <td>-0.230091</td>\n",
              "      <td>-0.511217</td>\n",
              "      <td>-0.995221</td>\n",
              "      <td>-0.995237</td>\n",
              "      <td>-0.995722</td>\n",
              "      <td>-0.995273</td>\n",
              "      <td>-0.995732</td>\n",
              "      <td>-0.995221</td>\n",
              "      <td>-0.999974</td>\n",
              "      <td>-0.995226</td>\n",
              "      <td>-0.955696</td>\n",
              "      <td>-0.936508</td>\n",
              "      <td>0.404573</td>\n",
              "      <td>-0.117290</td>\n",
              "      <td>-0.482845</td>\n",
              "      <td>-0.036788</td>\n",
              "      <td>-0.012892</td>\n",
              "      <td>0.640011</td>\n",
              "      <td>-0.485366</td>\n",
              "      <td>-0.848649</td>\n",
              "      <td>0.181935</td>\n",
              "      <td>-0.047663</td>\n",
              "      <td>1</td>\n",
              "      <td>STANDING</td>\n",
              "    </tr>\n",
              "    <tr>\n",
              "      <th>4</th>\n",
              "      <td>0.276629</td>\n",
              "      <td>-0.016570</td>\n",
              "      <td>-0.115362</td>\n",
              "      <td>-0.998139</td>\n",
              "      <td>-0.980817</td>\n",
              "      <td>-0.990482</td>\n",
              "      <td>-0.998321</td>\n",
              "      <td>-0.979672</td>\n",
              "      <td>-0.990441</td>\n",
              "      <td>-0.942469</td>\n",
              "      <td>-0.569174</td>\n",
              "      <td>-0.824705</td>\n",
              "      <td>0.849095</td>\n",
              "      <td>0.683250</td>\n",
              "      <td>0.837869</td>\n",
              "      <td>-0.992653</td>\n",
              "      <td>-0.999991</td>\n",
              "      <td>-0.999856</td>\n",
              "      <td>-0.999757</td>\n",
              "      <td>-0.998004</td>\n",
              "      <td>-0.981232</td>\n",
              "      <td>-0.991325</td>\n",
              "      <td>-0.786553</td>\n",
              "      <td>-0.559477</td>\n",
              "      <td>-0.761434</td>\n",
              "      <td>0.313276</td>\n",
              "      <td>-0.131208</td>\n",
              "      <td>0.191161</td>\n",
              "      <td>0.086904</td>\n",
              "      <td>0.257615</td>\n",
              "      <td>-0.272505</td>\n",
              "      <td>0.434728</td>\n",
              "      <td>-0.315375</td>\n",
              "      <td>0.439744</td>\n",
              "      <td>-0.269069</td>\n",
              "      <td>0.179414</td>\n",
              "      <td>-0.088952</td>\n",
              "      <td>-0.155804</td>\n",
              "      <td>-0.189763</td>\n",
              "      <td>0.599213</td>\n",
              "      <td>...</td>\n",
              "      <td>-1.0</td>\n",
              "      <td>-1.000000</td>\n",
              "      <td>0.559058</td>\n",
              "      <td>-0.528901</td>\n",
              "      <td>-0.858933</td>\n",
              "      <td>-0.991433</td>\n",
              "      <td>-0.989059</td>\n",
              "      <td>-0.987744</td>\n",
              "      <td>-0.991462</td>\n",
              "      <td>-0.998353</td>\n",
              "      <td>-0.991433</td>\n",
              "      <td>-0.999902</td>\n",
              "      <td>-0.989321</td>\n",
              "      <td>-0.763372</td>\n",
              "      <td>-0.897436</td>\n",
              "      <td>-0.273582</td>\n",
              "      <td>-0.510282</td>\n",
              "      <td>-0.830702</td>\n",
              "      <td>-0.995093</td>\n",
              "      <td>-0.995465</td>\n",
              "      <td>-0.995279</td>\n",
              "      <td>-0.995609</td>\n",
              "      <td>-0.997418</td>\n",
              "      <td>-0.995093</td>\n",
              "      <td>-0.999974</td>\n",
              "      <td>-0.995487</td>\n",
              "      <td>-1.000000</td>\n",
              "      <td>-0.936508</td>\n",
              "      <td>0.087753</td>\n",
              "      <td>-0.351471</td>\n",
              "      <td>-0.699205</td>\n",
              "      <td>0.123320</td>\n",
              "      <td>0.122542</td>\n",
              "      <td>0.693578</td>\n",
              "      <td>-0.615971</td>\n",
              "      <td>-0.847865</td>\n",
              "      <td>0.185151</td>\n",
              "      <td>-0.043892</td>\n",
              "      <td>1</td>\n",
              "      <td>STANDING</td>\n",
              "    </tr>\n",
              "  </tbody>\n",
              "</table>\n",
              "<p>5 rows × 563 columns</p>\n",
              "</div>"
            ],
            "text/plain": [
              "   tBodyAcc-mean()-X  tBodyAcc-mean()-Y  ...  subject  Activity\n",
              "0           0.288585          -0.020294  ...        1  STANDING\n",
              "1           0.278419          -0.016411  ...        1  STANDING\n",
              "2           0.279653          -0.019467  ...        1  STANDING\n",
              "3           0.279174          -0.026201  ...        1  STANDING\n",
              "4           0.276629          -0.016570  ...        1  STANDING\n",
              "\n",
              "[5 rows x 563 columns]"
            ]
          },
          "metadata": {
            "tags": []
          },
          "execution_count": 63
        }
      ]
    },
    {
      "cell_type": "code",
      "metadata": {
        "colab": {
          "base_uri": "https://localhost:8080/"
        },
        "id": "QZY_fmDOmRmD",
        "outputId": "d4953b17-a9b4-4b40-fbe2-c19dca4ee2a1"
      },
      "source": [
        "df.info()"
      ],
      "execution_count": null,
      "outputs": [
        {
          "output_type": "stream",
          "text": [
            "<class 'pandas.core.frame.DataFrame'>\n",
            "RangeIndex: 7352 entries, 0 to 7351\n",
            "Columns: 563 entries, tBodyAcc-mean()-X to Activity\n",
            "dtypes: float64(561), int64(1), object(1)\n",
            "memory usage: 31.6+ MB\n"
          ],
          "name": "stdout"
        }
      ]
    },
    {
      "cell_type": "code",
      "metadata": {
        "id": "OvbXp1UbmTAe"
      },
      "source": [
        "coldf=df.columns.to_frame()"
      ],
      "execution_count": null,
      "outputs": []
    },
    {
      "cell_type": "code",
      "metadata": {
        "colab": {
          "base_uri": "https://localhost:8080/",
          "height": 205
        },
        "id": "EzIpZU8JmZmv",
        "outputId": "5ac44664-27ae-4caa-d851-728b1e780d9b"
      },
      "source": [
        "coldf.tail()"
      ],
      "execution_count": null,
      "outputs": [
        {
          "output_type": "execute_result",
          "data": {
            "text/html": [
              "<div>\n",
              "<style scoped>\n",
              "    .dataframe tbody tr th:only-of-type {\n",
              "        vertical-align: middle;\n",
              "    }\n",
              "\n",
              "    .dataframe tbody tr th {\n",
              "        vertical-align: top;\n",
              "    }\n",
              "\n",
              "    .dataframe thead th {\n",
              "        text-align: right;\n",
              "    }\n",
              "</style>\n",
              "<table border=\"1\" class=\"dataframe\">\n",
              "  <thead>\n",
              "    <tr style=\"text-align: right;\">\n",
              "      <th></th>\n",
              "      <th>0</th>\n",
              "    </tr>\n",
              "  </thead>\n",
              "  <tbody>\n",
              "    <tr>\n",
              "      <th>angle(X,gravityMean)</th>\n",
              "      <td>angle(X,gravityMean)</td>\n",
              "    </tr>\n",
              "    <tr>\n",
              "      <th>angle(Y,gravityMean)</th>\n",
              "      <td>angle(Y,gravityMean)</td>\n",
              "    </tr>\n",
              "    <tr>\n",
              "      <th>angle(Z,gravityMean)</th>\n",
              "      <td>angle(Z,gravityMean)</td>\n",
              "    </tr>\n",
              "    <tr>\n",
              "      <th>subject</th>\n",
              "      <td>subject</td>\n",
              "    </tr>\n",
              "    <tr>\n",
              "      <th>Activity</th>\n",
              "      <td>Activity</td>\n",
              "    </tr>\n",
              "  </tbody>\n",
              "</table>\n",
              "</div>"
            ],
            "text/plain": [
              "                                         0\n",
              "angle(X,gravityMean)  angle(X,gravityMean)\n",
              "angle(Y,gravityMean)  angle(Y,gravityMean)\n",
              "angle(Z,gravityMean)  angle(Z,gravityMean)\n",
              "subject                            subject\n",
              "Activity                          Activity"
            ]
          },
          "metadata": {
            "tags": []
          },
          "execution_count": 66
        }
      ]
    },
    {
      "cell_type": "code",
      "metadata": {
        "id": "Fs8tXSA5mccx"
      },
      "source": [
        "df.drop(columns=\"subject\", axis=1, inplace=True)\n",
        "df_test.drop(columns=\"subject\", axis=1, inplace=True)"
      ],
      "execution_count": null,
      "outputs": []
    },
    {
      "cell_type": "code",
      "metadata": {
        "colab": {
          "base_uri": "https://localhost:8080/"
        },
        "id": "3wi2QKLAnMm0",
        "outputId": "9166703b-8d8b-4b48-f84d-75dafc638931"
      },
      "source": [
        "df.Activity.dtype"
      ],
      "execution_count": null,
      "outputs": [
        {
          "output_type": "execute_result",
          "data": {
            "text/plain": [
              "dtype('O')"
            ]
          },
          "metadata": {
            "tags": []
          },
          "execution_count": 68
        }
      ]
    },
    {
      "cell_type": "code",
      "metadata": {
        "colab": {
          "base_uri": "https://localhost:8080/"
        },
        "id": "ixXrEELTnUtF",
        "outputId": "c48b52bd-3b39-4987-8f07-59b3e94b81dc"
      },
      "source": [
        "df.info()"
      ],
      "execution_count": null,
      "outputs": [
        {
          "output_type": "stream",
          "text": [
            "<class 'pandas.core.frame.DataFrame'>\n",
            "RangeIndex: 7352 entries, 0 to 7351\n",
            "Columns: 562 entries, tBodyAcc-mean()-X to Activity\n",
            "dtypes: float64(561), object(1)\n",
            "memory usage: 31.5+ MB\n"
          ],
          "name": "stdout"
        }
      ]
    },
    {
      "cell_type": "markdown",
      "metadata": {
        "id": "Q164WRblMqnw"
      },
      "source": [
        "<u>Categorical Encoding<u>"
      ]
    },
    {
      "cell_type": "code",
      "metadata": {
        "id": "09f2_gXsvxeb"
      },
      "source": [
        "df[\"Activity\"]      = df[\"Activity\"].astype('category')\n",
        "df_test[\"Activity\"] = df_test[\"Activity\"].astype('category')"
      ],
      "execution_count": null,
      "outputs": []
    },
    {
      "cell_type": "code",
      "metadata": {
        "id": "9nu7U73ln9us"
      },
      "source": [
        "df[\"Activity_Labels\"] = df[\"Activity\"].cat.codes\n",
        "df_test[\"Activity_Labels\"] = df_test[\"Activity\"].cat.codes"
      ],
      "execution_count": null,
      "outputs": []
    },
    {
      "cell_type": "code",
      "metadata": {
        "colab": {
          "base_uri": "https://localhost:8080/"
        },
        "id": "WRSxqff1oUfC",
        "outputId": "69b7f56d-7edb-43d3-a2c3-ff51c5480cfd"
      },
      "source": [
        "df[\"Activity_Labels\"]"
      ],
      "execution_count": null,
      "outputs": [
        {
          "output_type": "execute_result",
          "data": {
            "text/plain": [
              "0       2\n",
              "1       2\n",
              "2       2\n",
              "3       2\n",
              "4       2\n",
              "       ..\n",
              "7347    5\n",
              "7348    5\n",
              "7349    5\n",
              "7350    5\n",
              "7351    5\n",
              "Name: Activity_Labels, Length: 7352, dtype: int8"
            ]
          },
          "metadata": {
            "tags": []
          },
          "execution_count": 72
        }
      ]
    },
    {
      "cell_type": "code",
      "metadata": {
        "id": "UdaKor2NoYcI"
      },
      "source": [
        "# Drop Column Activity as its been replaced with 'Activity-Labels'\n",
        "df.drop(columns=\"Activity\", axis=1, inplace=True)\n",
        "df_test.drop(columns=\"Activity\", axis=1, inplace=True)"
      ],
      "execution_count": null,
      "outputs": []
    },
    {
      "cell_type": "code",
      "metadata": {
        "id": "QepY28saprzJ"
      },
      "source": [
        "# Separate Data and Label for train and test set\n",
        "X      = df.drop(columns=\"Activity_Labels\",axis=1)\n",
        "y      = df[\"Activity_Labels\"]\n",
        "\n",
        "X_test = df_test.drop(columns=\"Activity_Labels\",axis=1)\n",
        "y_test = df_test[\"Activity_Labels\"]"
      ],
      "execution_count": null,
      "outputs": []
    },
    {
      "cell_type": "markdown",
      "metadata": {
        "id": "D09r2_C4NN7v"
      },
      "source": [
        "<b>Dimensionality Reduction   \n",
        "<u>Implementing PCA with 90% variance</u></b>"
      ]
    },
    {
      "cell_type": "code",
      "metadata": {
        "id": "3JrhmQsAoriK"
      },
      "source": [
        "from sklearn.decomposition import PCA"
      ],
      "execution_count": null,
      "outputs": []
    },
    {
      "cell_type": "code",
      "metadata": {
        "colab": {
          "base_uri": "https://localhost:8080/"
        },
        "id": "QNcmHJTGmwo6",
        "outputId": "a2641183-cd96-479f-eeae-b218e5df39a9"
      },
      "source": [
        "pca=PCA(0.90)\n",
        "pca_output      = pca.fit_transform(X.values)\n",
        "\n",
        "# Check features are reduced to how many components - Component Count\n",
        "pca.n_components_"
      ],
      "execution_count": null,
      "outputs": [
        {
          "output_type": "execute_result",
          "data": {
            "text/plain": [
              "34"
            ]
          },
          "metadata": {
            "tags": []
          },
          "execution_count": 76
        }
      ]
    },
    {
      "cell_type": "markdown",
      "metadata": {
        "id": "5eAil20FZwod"
      },
      "source": [
        "Observation:   \n",
        "After PCA features are reduced from 562 to 34 features."
      ]
    },
    {
      "cell_type": "code",
      "metadata": {
        "id": "fS7jvfa0nD-4"
      },
      "source": [
        "#Building the Projected Train dataframe\n",
        "Projected_columns=[]\n",
        "for i in range(pca.n_components_):\n",
        "  Projected_columns.append('col_'+str(i))"
      ],
      "execution_count": null,
      "outputs": []
    },
    {
      "cell_type": "code",
      "metadata": {
        "id": "DX0awpLInD-9"
      },
      "source": [
        "Projected_df= pd.DataFrame(pca_output,columns=Projected_columns)"
      ],
      "execution_count": null,
      "outputs": []
    },
    {
      "cell_type": "code",
      "metadata": {
        "id": "3YKhWDN5nD--"
      },
      "source": [
        "Projected_df[\"Class\"]=y"
      ],
      "execution_count": null,
      "outputs": []
    },
    {
      "cell_type": "code",
      "metadata": {
        "colab": {
          "base_uri": "https://localhost:8080/",
          "height": 225
        },
        "id": "WQUFFjH-nD--",
        "outputId": "ad141539-298e-4b77-a7d2-18e7443735eb"
      },
      "source": [
        "Projected_df.head()"
      ],
      "execution_count": null,
      "outputs": [
        {
          "output_type": "execute_result",
          "data": {
            "text/html": [
              "<div>\n",
              "<style scoped>\n",
              "    .dataframe tbody tr th:only-of-type {\n",
              "        vertical-align: middle;\n",
              "    }\n",
              "\n",
              "    .dataframe tbody tr th {\n",
              "        vertical-align: top;\n",
              "    }\n",
              "\n",
              "    .dataframe thead th {\n",
              "        text-align: right;\n",
              "    }\n",
              "</style>\n",
              "<table border=\"1\" class=\"dataframe\">\n",
              "  <thead>\n",
              "    <tr style=\"text-align: right;\">\n",
              "      <th></th>\n",
              "      <th>col_0</th>\n",
              "      <th>col_1</th>\n",
              "      <th>col_2</th>\n",
              "      <th>col_3</th>\n",
              "      <th>col_4</th>\n",
              "      <th>col_5</th>\n",
              "      <th>col_6</th>\n",
              "      <th>col_7</th>\n",
              "      <th>col_8</th>\n",
              "      <th>col_9</th>\n",
              "      <th>col_10</th>\n",
              "      <th>col_11</th>\n",
              "      <th>col_12</th>\n",
              "      <th>col_13</th>\n",
              "      <th>col_14</th>\n",
              "      <th>col_15</th>\n",
              "      <th>col_16</th>\n",
              "      <th>col_17</th>\n",
              "      <th>col_18</th>\n",
              "      <th>col_19</th>\n",
              "      <th>col_20</th>\n",
              "      <th>col_21</th>\n",
              "      <th>col_22</th>\n",
              "      <th>col_23</th>\n",
              "      <th>col_24</th>\n",
              "      <th>col_25</th>\n",
              "      <th>col_26</th>\n",
              "      <th>col_27</th>\n",
              "      <th>col_28</th>\n",
              "      <th>col_29</th>\n",
              "      <th>col_30</th>\n",
              "      <th>col_31</th>\n",
              "      <th>col_32</th>\n",
              "      <th>col_33</th>\n",
              "      <th>Class</th>\n",
              "    </tr>\n",
              "  </thead>\n",
              "  <tbody>\n",
              "    <tr>\n",
              "      <th>0</th>\n",
              "      <td>-5.520280</td>\n",
              "      <td>-0.290278</td>\n",
              "      <td>-1.529929</td>\n",
              "      <td>1.333242</td>\n",
              "      <td>1.425089</td>\n",
              "      <td>-0.194708</td>\n",
              "      <td>0.577454</td>\n",
              "      <td>0.691490</td>\n",
              "      <td>-1.222865</td>\n",
              "      <td>-0.363414</td>\n",
              "      <td>-0.081356</td>\n",
              "      <td>0.051628</td>\n",
              "      <td>0.959374</td>\n",
              "      <td>1.228029</td>\n",
              "      <td>1.471873</td>\n",
              "      <td>0.042504</td>\n",
              "      <td>-0.247260</td>\n",
              "      <td>-0.646486</td>\n",
              "      <td>0.517711</td>\n",
              "      <td>0.524570</td>\n",
              "      <td>-0.232662</td>\n",
              "      <td>-0.281923</td>\n",
              "      <td>-0.149159</td>\n",
              "      <td>-0.445527</td>\n",
              "      <td>-0.623863</td>\n",
              "      <td>0.058478</td>\n",
              "      <td>-0.061776</td>\n",
              "      <td>-0.574233</td>\n",
              "      <td>-1.031077</td>\n",
              "      <td>0.145442</td>\n",
              "      <td>1.413358</td>\n",
              "      <td>-0.424984</td>\n",
              "      <td>-0.305009</td>\n",
              "      <td>-0.245045</td>\n",
              "      <td>2</td>\n",
              "    </tr>\n",
              "    <tr>\n",
              "      <th>1</th>\n",
              "      <td>-5.535350</td>\n",
              "      <td>-0.082530</td>\n",
              "      <td>-1.924804</td>\n",
              "      <td>0.671273</td>\n",
              "      <td>0.671260</td>\n",
              "      <td>0.735144</td>\n",
              "      <td>-0.616908</td>\n",
              "      <td>-0.771714</td>\n",
              "      <td>-0.615496</td>\n",
              "      <td>-0.895525</td>\n",
              "      <td>-0.339903</td>\n",
              "      <td>-0.072326</td>\n",
              "      <td>0.224393</td>\n",
              "      <td>0.294888</td>\n",
              "      <td>0.273483</td>\n",
              "      <td>0.171436</td>\n",
              "      <td>0.130087</td>\n",
              "      <td>0.458148</td>\n",
              "      <td>0.162881</td>\n",
              "      <td>0.041735</td>\n",
              "      <td>0.372725</td>\n",
              "      <td>0.557832</td>\n",
              "      <td>-0.009476</td>\n",
              "      <td>0.058239</td>\n",
              "      <td>-0.135733</td>\n",
              "      <td>-0.441125</td>\n",
              "      <td>0.077243</td>\n",
              "      <td>-0.626729</td>\n",
              "      <td>0.051226</td>\n",
              "      <td>-0.114860</td>\n",
              "      <td>0.050802</td>\n",
              "      <td>0.102478</td>\n",
              "      <td>-0.141135</td>\n",
              "      <td>-0.465369</td>\n",
              "      <td>2</td>\n",
              "    </tr>\n",
              "    <tr>\n",
              "      <th>2</th>\n",
              "      <td>-5.474988</td>\n",
              "      <td>0.287387</td>\n",
              "      <td>-2.144642</td>\n",
              "      <td>0.531806</td>\n",
              "      <td>0.207824</td>\n",
              "      <td>-0.037772</td>\n",
              "      <td>0.057628</td>\n",
              "      <td>0.093917</td>\n",
              "      <td>-0.063147</td>\n",
              "      <td>-0.216898</td>\n",
              "      <td>-0.178427</td>\n",
              "      <td>0.297982</td>\n",
              "      <td>-0.097776</td>\n",
              "      <td>0.185711</td>\n",
              "      <td>0.179611</td>\n",
              "      <td>-0.257820</td>\n",
              "      <td>0.009079</td>\n",
              "      <td>0.328574</td>\n",
              "      <td>0.560250</td>\n",
              "      <td>0.151594</td>\n",
              "      <td>0.349286</td>\n",
              "      <td>0.909580</td>\n",
              "      <td>0.245484</td>\n",
              "      <td>0.134095</td>\n",
              "      <td>0.087499</td>\n",
              "      <td>-0.078237</td>\n",
              "      <td>-0.350594</td>\n",
              "      <td>0.019942</td>\n",
              "      <td>-0.096296</td>\n",
              "      <td>0.196007</td>\n",
              "      <td>-0.397665</td>\n",
              "      <td>-0.035724</td>\n",
              "      <td>0.373212</td>\n",
              "      <td>-0.015986</td>\n",
              "      <td>2</td>\n",
              "    </tr>\n",
              "    <tr>\n",
              "      <th>3</th>\n",
              "      <td>-5.677232</td>\n",
              "      <td>0.897031</td>\n",
              "      <td>-2.018220</td>\n",
              "      <td>0.157125</td>\n",
              "      <td>0.759085</td>\n",
              "      <td>1.079547</td>\n",
              "      <td>-0.267805</td>\n",
              "      <td>-0.731391</td>\n",
              "      <td>0.281296</td>\n",
              "      <td>0.466269</td>\n",
              "      <td>-0.226853</td>\n",
              "      <td>-0.348434</td>\n",
              "      <td>-0.707418</td>\n",
              "      <td>0.076890</td>\n",
              "      <td>-0.143724</td>\n",
              "      <td>-0.104034</td>\n",
              "      <td>0.055708</td>\n",
              "      <td>-0.299547</td>\n",
              "      <td>-0.056019</td>\n",
              "      <td>-0.289759</td>\n",
              "      <td>-0.135981</td>\n",
              "      <td>-0.140244</td>\n",
              "      <td>-0.115074</td>\n",
              "      <td>-0.359083</td>\n",
              "      <td>0.353560</td>\n",
              "      <td>-0.308377</td>\n",
              "      <td>0.195371</td>\n",
              "      <td>-0.020905</td>\n",
              "      <td>-0.301993</td>\n",
              "      <td>0.100186</td>\n",
              "      <td>0.004239</td>\n",
              "      <td>-0.200665</td>\n",
              "      <td>0.841743</td>\n",
              "      <td>0.121598</td>\n",
              "      <td>2</td>\n",
              "    </tr>\n",
              "    <tr>\n",
              "      <th>4</th>\n",
              "      <td>-5.748749</td>\n",
              "      <td>1.162952</td>\n",
              "      <td>-2.139533</td>\n",
              "      <td>0.207823</td>\n",
              "      <td>0.473090</td>\n",
              "      <td>0.463035</td>\n",
              "      <td>-0.152227</td>\n",
              "      <td>-0.107509</td>\n",
              "      <td>0.289819</td>\n",
              "      <td>0.539206</td>\n",
              "      <td>-0.388249</td>\n",
              "      <td>-0.097442</td>\n",
              "      <td>-0.440733</td>\n",
              "      <td>-0.248946</td>\n",
              "      <td>0.377179</td>\n",
              "      <td>0.140955</td>\n",
              "      <td>0.264272</td>\n",
              "      <td>0.212104</td>\n",
              "      <td>-0.698940</td>\n",
              "      <td>-0.503464</td>\n",
              "      <td>-0.518617</td>\n",
              "      <td>0.345950</td>\n",
              "      <td>0.386155</td>\n",
              "      <td>-0.131487</td>\n",
              "      <td>0.212203</td>\n",
              "      <td>0.037073</td>\n",
              "      <td>0.240130</td>\n",
              "      <td>0.143649</td>\n",
              "      <td>0.418521</td>\n",
              "      <td>0.025994</td>\n",
              "      <td>-0.304426</td>\n",
              "      <td>0.059155</td>\n",
              "      <td>0.129916</td>\n",
              "      <td>0.335800</td>\n",
              "      <td>2</td>\n",
              "    </tr>\n",
              "  </tbody>\n",
              "</table>\n",
              "</div>"
            ],
            "text/plain": [
              "      col_0     col_1     col_2     col_3  ...    col_31    col_32    col_33  Class\n",
              "0 -5.520280 -0.290278 -1.529929  1.333242  ... -0.424984 -0.305009 -0.245045      2\n",
              "1 -5.535350 -0.082530 -1.924804  0.671273  ...  0.102478 -0.141135 -0.465369      2\n",
              "2 -5.474988  0.287387 -2.144642  0.531806  ... -0.035724  0.373212 -0.015986      2\n",
              "3 -5.677232  0.897031 -2.018220  0.157125  ... -0.200665  0.841743  0.121598      2\n",
              "4 -5.748749  1.162952 -2.139533  0.207823  ...  0.059155  0.129916  0.335800      2\n",
              "\n",
              "[5 rows x 35 columns]"
            ]
          },
          "metadata": {
            "tags": []
          },
          "execution_count": 80
        }
      ]
    },
    {
      "cell_type": "code",
      "metadata": {
        "id": "IgcXDfpBoMlx"
      },
      "source": [
        "Projected_df.to_csv(\"PCA_data_train.csv\")"
      ],
      "execution_count": null,
      "outputs": []
    },
    {
      "cell_type": "markdown",
      "metadata": {
        "id": "zllZr-ngnQLP"
      },
      "source": [
        "Tranforming test data to 34 components/features"
      ]
    },
    {
      "cell_type": "code",
      "metadata": {
        "id": "gnZgR7xpoLfT"
      },
      "source": [
        "pca_output_test = pca.transform(X_test)"
      ],
      "execution_count": null,
      "outputs": []
    },
    {
      "cell_type": "code",
      "metadata": {
        "id": "lKrO9Ra-pO0N"
      },
      "source": [
        "#Building the Projected Train dataframe\n",
        "Projected_columns=[]\n",
        "for i in range(pca.n_components_):\n",
        "  Projected_columns.append('col_'+str(i))"
      ],
      "execution_count": null,
      "outputs": []
    },
    {
      "cell_type": "code",
      "metadata": {
        "id": "-zCPBM2ln7mt"
      },
      "source": [
        "Projected_df_test= pd.DataFrame(pca_output_test,columns=Projected_columns)"
      ],
      "execution_count": null,
      "outputs": []
    },
    {
      "cell_type": "code",
      "metadata": {
        "id": "21S2WVcWtx6Y"
      },
      "source": [
        "Projected_df_test[\"Class\"]=y_test"
      ],
      "execution_count": null,
      "outputs": []
    },
    {
      "cell_type": "code",
      "metadata": {
        "colab": {
          "base_uri": "https://localhost:8080/",
          "height": 225
        },
        "id": "3uZKM8DPr2U-",
        "outputId": "0c04c3c1-bd5c-460a-dc95-e0e18edd6181"
      },
      "source": [
        "Projected_df_test.head()"
      ],
      "execution_count": null,
      "outputs": [
        {
          "output_type": "execute_result",
          "data": {
            "text/html": [
              "<div>\n",
              "<style scoped>\n",
              "    .dataframe tbody tr th:only-of-type {\n",
              "        vertical-align: middle;\n",
              "    }\n",
              "\n",
              "    .dataframe tbody tr th {\n",
              "        vertical-align: top;\n",
              "    }\n",
              "\n",
              "    .dataframe thead th {\n",
              "        text-align: right;\n",
              "    }\n",
              "</style>\n",
              "<table border=\"1\" class=\"dataframe\">\n",
              "  <thead>\n",
              "    <tr style=\"text-align: right;\">\n",
              "      <th></th>\n",
              "      <th>col_0</th>\n",
              "      <th>col_1</th>\n",
              "      <th>col_2</th>\n",
              "      <th>col_3</th>\n",
              "      <th>col_4</th>\n",
              "      <th>col_5</th>\n",
              "      <th>col_6</th>\n",
              "      <th>col_7</th>\n",
              "      <th>col_8</th>\n",
              "      <th>col_9</th>\n",
              "      <th>col_10</th>\n",
              "      <th>col_11</th>\n",
              "      <th>col_12</th>\n",
              "      <th>col_13</th>\n",
              "      <th>col_14</th>\n",
              "      <th>col_15</th>\n",
              "      <th>col_16</th>\n",
              "      <th>col_17</th>\n",
              "      <th>col_18</th>\n",
              "      <th>col_19</th>\n",
              "      <th>col_20</th>\n",
              "      <th>col_21</th>\n",
              "      <th>col_22</th>\n",
              "      <th>col_23</th>\n",
              "      <th>col_24</th>\n",
              "      <th>col_25</th>\n",
              "      <th>col_26</th>\n",
              "      <th>col_27</th>\n",
              "      <th>col_28</th>\n",
              "      <th>col_29</th>\n",
              "      <th>col_30</th>\n",
              "      <th>col_31</th>\n",
              "      <th>col_32</th>\n",
              "      <th>col_33</th>\n",
              "      <th>Class</th>\n",
              "    </tr>\n",
              "  </thead>\n",
              "  <tbody>\n",
              "    <tr>\n",
              "      <th>0</th>\n",
              "      <td>-2.686743</td>\n",
              "      <td>-1.216821</td>\n",
              "      <td>-0.722075</td>\n",
              "      <td>-0.117271</td>\n",
              "      <td>-0.546360</td>\n",
              "      <td>0.442701</td>\n",
              "      <td>-0.387679</td>\n",
              "      <td>0.327529</td>\n",
              "      <td>0.117682</td>\n",
              "      <td>-1.593977</td>\n",
              "      <td>1.304678</td>\n",
              "      <td>0.031279</td>\n",
              "      <td>0.460255</td>\n",
              "      <td>1.948842</td>\n",
              "      <td>1.375323</td>\n",
              "      <td>-0.056748</td>\n",
              "      <td>-0.519423</td>\n",
              "      <td>0.427495</td>\n",
              "      <td>-0.186899</td>\n",
              "      <td>0.151814</td>\n",
              "      <td>-0.011180</td>\n",
              "      <td>0.191239</td>\n",
              "      <td>-0.624719</td>\n",
              "      <td>0.097983</td>\n",
              "      <td>-0.494689</td>\n",
              "      <td>0.581287</td>\n",
              "      <td>-0.464077</td>\n",
              "      <td>-0.172273</td>\n",
              "      <td>0.661018</td>\n",
              "      <td>-0.111852</td>\n",
              "      <td>0.935456</td>\n",
              "      <td>-0.229520</td>\n",
              "      <td>-0.854052</td>\n",
              "      <td>-0.350674</td>\n",
              "      <td>2</td>\n",
              "    </tr>\n",
              "    <tr>\n",
              "      <th>1</th>\n",
              "      <td>-4.331255</td>\n",
              "      <td>-0.766327</td>\n",
              "      <td>-1.128404</td>\n",
              "      <td>-0.152942</td>\n",
              "      <td>-0.505817</td>\n",
              "      <td>0.485306</td>\n",
              "      <td>-0.423214</td>\n",
              "      <td>0.805947</td>\n",
              "      <td>0.591644</td>\n",
              "      <td>-0.986363</td>\n",
              "      <td>0.822069</td>\n",
              "      <td>0.670615</td>\n",
              "      <td>-0.059785</td>\n",
              "      <td>0.332495</td>\n",
              "      <td>1.003045</td>\n",
              "      <td>0.572141</td>\n",
              "      <td>-0.540900</td>\n",
              "      <td>0.335092</td>\n",
              "      <td>0.461837</td>\n",
              "      <td>0.560475</td>\n",
              "      <td>0.420514</td>\n",
              "      <td>0.675158</td>\n",
              "      <td>-0.028921</td>\n",
              "      <td>-0.806020</td>\n",
              "      <td>-0.043777</td>\n",
              "      <td>0.996701</td>\n",
              "      <td>0.597320</td>\n",
              "      <td>0.023259</td>\n",
              "      <td>0.809898</td>\n",
              "      <td>0.824455</td>\n",
              "      <td>-0.241112</td>\n",
              "      <td>-0.236001</td>\n",
              "      <td>-0.794151</td>\n",
              "      <td>-0.202530</td>\n",
              "      <td>2</td>\n",
              "    </tr>\n",
              "    <tr>\n",
              "      <th>2</th>\n",
              "      <td>-4.985360</td>\n",
              "      <td>0.371301</td>\n",
              "      <td>-1.656858</td>\n",
              "      <td>-0.235971</td>\n",
              "      <td>-0.102938</td>\n",
              "      <td>-0.113283</td>\n",
              "      <td>-0.143993</td>\n",
              "      <td>0.279862</td>\n",
              "      <td>0.330125</td>\n",
              "      <td>-0.163722</td>\n",
              "      <td>0.032124</td>\n",
              "      <td>-0.639116</td>\n",
              "      <td>-0.746860</td>\n",
              "      <td>0.375007</td>\n",
              "      <td>0.860269</td>\n",
              "      <td>-0.187235</td>\n",
              "      <td>0.436794</td>\n",
              "      <td>-0.069230</td>\n",
              "      <td>0.502669</td>\n",
              "      <td>-0.223798</td>\n",
              "      <td>0.024279</td>\n",
              "      <td>-0.111600</td>\n",
              "      <td>-0.014632</td>\n",
              "      <td>-0.769830</td>\n",
              "      <td>0.092090</td>\n",
              "      <td>0.368614</td>\n",
              "      <td>-0.135035</td>\n",
              "      <td>0.346628</td>\n",
              "      <td>-0.504355</td>\n",
              "      <td>-0.006287</td>\n",
              "      <td>-0.171418</td>\n",
              "      <td>-0.077245</td>\n",
              "      <td>0.504860</td>\n",
              "      <td>-0.371783</td>\n",
              "      <td>2</td>\n",
              "    </tr>\n",
              "    <tr>\n",
              "      <th>3</th>\n",
              "      <td>-5.099876</td>\n",
              "      <td>0.243743</td>\n",
              "      <td>-1.802703</td>\n",
              "      <td>0.263715</td>\n",
              "      <td>-0.050454</td>\n",
              "      <td>-0.794957</td>\n",
              "      <td>0.083771</td>\n",
              "      <td>0.650500</td>\n",
              "      <td>0.270365</td>\n",
              "      <td>0.321617</td>\n",
              "      <td>-0.410402</td>\n",
              "      <td>-0.324809</td>\n",
              "      <td>-0.464828</td>\n",
              "      <td>-0.496677</td>\n",
              "      <td>1.055181</td>\n",
              "      <td>-0.133006</td>\n",
              "      <td>-0.031111</td>\n",
              "      <td>0.023301</td>\n",
              "      <td>0.578292</td>\n",
              "      <td>-0.262771</td>\n",
              "      <td>0.084390</td>\n",
              "      <td>-0.119842</td>\n",
              "      <td>0.320881</td>\n",
              "      <td>-0.902269</td>\n",
              "      <td>-0.057790</td>\n",
              "      <td>0.661725</td>\n",
              "      <td>-0.037761</td>\n",
              "      <td>-0.239778</td>\n",
              "      <td>-0.431563</td>\n",
              "      <td>0.318179</td>\n",
              "      <td>-0.633366</td>\n",
              "      <td>0.134140</td>\n",
              "      <td>0.487754</td>\n",
              "      <td>-0.518927</td>\n",
              "      <td>2</td>\n",
              "    </tr>\n",
              "    <tr>\n",
              "      <th>4</th>\n",
              "      <td>-5.023000</td>\n",
              "      <td>-0.518739</td>\n",
              "      <td>-1.871078</td>\n",
              "      <td>0.106466</td>\n",
              "      <td>0.153655</td>\n",
              "      <td>-0.947262</td>\n",
              "      <td>0.668394</td>\n",
              "      <td>0.792005</td>\n",
              "      <td>0.932680</td>\n",
              "      <td>0.593944</td>\n",
              "      <td>-0.754802</td>\n",
              "      <td>-0.098596</td>\n",
              "      <td>-0.524694</td>\n",
              "      <td>-0.320836</td>\n",
              "      <td>0.068349</td>\n",
              "      <td>0.290560</td>\n",
              "      <td>-0.103566</td>\n",
              "      <td>0.117574</td>\n",
              "      <td>-0.174046</td>\n",
              "      <td>-0.228588</td>\n",
              "      <td>0.052739</td>\n",
              "      <td>-0.299358</td>\n",
              "      <td>0.338667</td>\n",
              "      <td>-0.269739</td>\n",
              "      <td>-0.211368</td>\n",
              "      <td>-0.175551</td>\n",
              "      <td>-0.659512</td>\n",
              "      <td>0.042679</td>\n",
              "      <td>0.135818</td>\n",
              "      <td>0.284589</td>\n",
              "      <td>0.065170</td>\n",
              "      <td>0.088421</td>\n",
              "      <td>0.136543</td>\n",
              "      <td>-0.054600</td>\n",
              "      <td>2</td>\n",
              "    </tr>\n",
              "  </tbody>\n",
              "</table>\n",
              "</div>"
            ],
            "text/plain": [
              "      col_0     col_1     col_2     col_3  ...    col_31    col_32    col_33  Class\n",
              "0 -2.686743 -1.216821 -0.722075 -0.117271  ... -0.229520 -0.854052 -0.350674      2\n",
              "1 -4.331255 -0.766327 -1.128404 -0.152942  ... -0.236001 -0.794151 -0.202530      2\n",
              "2 -4.985360  0.371301 -1.656858 -0.235971  ... -0.077245  0.504860 -0.371783      2\n",
              "3 -5.099876  0.243743 -1.802703  0.263715  ...  0.134140  0.487754 -0.518927      2\n",
              "4 -5.023000 -0.518739 -1.871078  0.106466  ...  0.088421  0.136543 -0.054600      2\n",
              "\n",
              "[5 rows x 35 columns]"
            ]
          },
          "metadata": {
            "tags": []
          },
          "execution_count": 86
        }
      ]
    },
    {
      "cell_type": "code",
      "metadata": {
        "id": "49uCPCVTr6iW"
      },
      "source": [
        "Projected_df_test.to_csv(\"PCA_data_test.csv\")"
      ],
      "execution_count": null,
      "outputs": []
    },
    {
      "cell_type": "markdown",
      "metadata": {
        "id": "gmyT-skjV1jY"
      },
      "source": [
        "<u>Train Validation Test Split on PCA Data</u>  \n",
        "Train Test is split into Training and Validation Set.    \n",
        "Testing Set is separate from beginning. So, it will be split based on index."
      ]
    },
    {
      "cell_type": "code",
      "metadata": {
        "id": "RPtPf_FJV1js"
      },
      "source": [
        "XX=Projected_df.drop(columns=\"Class\",axis=1)\n",
        "yy=Projected_df[\"Class\"]"
      ],
      "execution_count": null,
      "outputs": []
    },
    {
      "cell_type": "code",
      "metadata": {
        "id": "naBLjgNNb9QG"
      },
      "source": [
        "X_test = Projected_df_test.drop(columns=\"Class\",axis=1)\n",
        "y_test = Projected_df_test[\"Class\"]"
      ],
      "execution_count": null,
      "outputs": []
    },
    {
      "cell_type": "code",
      "metadata": {
        "id": "QrgWOBPxV1js"
      },
      "source": [
        "from sklearn.model_selection import train_test_split"
      ],
      "execution_count": null,
      "outputs": []
    },
    {
      "cell_type": "code",
      "metadata": {
        "id": "02dhSrh3V1js"
      },
      "source": [
        "X_train, X_validation, y_train, y_validation = train_test_split(XX, yy, test_size=0.20, random_state=101)"
      ],
      "execution_count": null,
      "outputs": []
    },
    {
      "cell_type": "markdown",
      "metadata": {
        "id": "cjajTZx8BCS0"
      },
      "source": [
        "Data Frame to store results!"
      ]
    },
    {
      "cell_type": "code",
      "metadata": {
        "id": "IMru_TilBBdS"
      },
      "source": [
        "df_results = pd.DataFrame(columns =['Model Name', 'Train Accuracy', 'Validation Accuracy', 'Test Accuracy'])"
      ],
      "execution_count": null,
      "outputs": []
    },
    {
      "cell_type": "markdown",
      "metadata": {
        "id": "v96MfA04V1jt"
      },
      "source": [
        "<b>Implementing Machine Learning Models on PCA Data</b>   "
      ]
    },
    {
      "cell_type": "markdown",
      "metadata": {
        "id": "boEXIRgqi9Wp"
      },
      "source": [
        "<u>1. AdaBoost Classifier</u>"
      ]
    },
    {
      "cell_type": "code",
      "metadata": {
        "id": "FOBTg0jsi9W0"
      },
      "source": [
        "import time\n",
        "from sklearn.ensemble import AdaBoostClassifier\n",
        "from sklearn.metrics import classification_report, accuracy_score"
      ],
      "execution_count": null,
      "outputs": []
    },
    {
      "cell_type": "code",
      "metadata": {
        "id": "73FlaEdji9W1"
      },
      "source": [
        "#XGBoost classifier\n",
        "ada = AdaBoostClassifier(n_estimators=500, random_state=42)"
      ],
      "execution_count": null,
      "outputs": []
    },
    {
      "cell_type": "code",
      "metadata": {
        "colab": {
          "base_uri": "https://localhost:8080/"
        },
        "id": "kr4gNo0Zi9W1",
        "outputId": "73943651-9f0f-4c54-deac-53ce27dfd10f"
      },
      "source": [
        "# fit the model\n",
        "ada.fit(X_train, y_train)"
      ],
      "execution_count": null,
      "outputs": [
        {
          "output_type": "execute_result",
          "data": {
            "text/plain": [
              "AdaBoostClassifier(algorithm='SAMME.R', base_estimator=None, learning_rate=1.0,\n",
              "                   n_estimators=500, random_state=42)"
            ]
          },
          "metadata": {
            "tags": []
          },
          "execution_count": 95
        }
      ]
    },
    {
      "cell_type": "code",
      "metadata": {
        "colab": {
          "base_uri": "https://localhost:8080/"
        },
        "id": "AthEFB2Ai9W2",
        "outputId": "b61547c7-8788-4750-bd9b-1044aff85d2e"
      },
      "source": [
        "# model assessment\n",
        "pred_train_ada = ada.predict(X_train)\n",
        "pred_valid_ada = ada.predict(X_validation)\n",
        "pred_test_ada  = ada.predict(X_test)\n",
        "  \n",
        "print(classification_report(y_test,pred_test_ada))"
      ],
      "execution_count": null,
      "outputs": [
        {
          "output_type": "stream",
          "text": [
            "              precision    recall  f1-score   support\n",
            "\n",
            "           0       0.99      0.94      0.96       537\n",
            "           1       0.00      0.00      0.00       491\n",
            "           2       0.51      1.00      0.67       532\n",
            "           3       0.36      1.00      0.53       496\n",
            "           4       0.00      0.00      0.00       420\n",
            "           5       0.00      0.00      0.00       471\n",
            "\n",
            "    accuracy                           0.52      2947\n",
            "   macro avg       0.31      0.49      0.36      2947\n",
            "weighted avg       0.33      0.52      0.39      2947\n",
            "\n"
          ],
          "name": "stdout"
        },
        {
          "output_type": "stream",
          "text": [
            "/usr/local/lib/python3.7/dist-packages/sklearn/metrics/_classification.py:1272: UndefinedMetricWarning: Precision and F-score are ill-defined and being set to 0.0 in labels with no predicted samples. Use `zero_division` parameter to control this behavior.\n",
            "  _warn_prf(average, modifier, msg_start, len(result))\n"
          ],
          "name": "stderr"
        }
      ]
    },
    {
      "cell_type": "code",
      "metadata": {
        "colab": {
          "base_uri": "https://localhost:8080/"
        },
        "id": "-7kpTurci9W3",
        "outputId": "8c7bc537-ad85-41b3-cf56-9ef67c7108bd"
      },
      "source": [
        "print('Train Accuracy: ', accuracy_score(y_train, pred_train_ada))\n",
        "print('Validation Accuraccy: ', accuracy_score(y_validation, pred_valid_ada))\n",
        "print('Test Accuraccy: ', accuracy_score(y_test, pred_test_ada))"
      ],
      "execution_count": null,
      "outputs": [
        {
          "output_type": "stream",
          "text": [
            "Train Accuracy:  0.550586634926033\n",
            "Validation Accuraccy:  0.5316111488783141\n",
            "Test Accuraccy:  0.5191720393620631\n"
          ],
          "name": "stdout"
        }
      ]
    },
    {
      "cell_type": "code",
      "metadata": {
        "id": "N7Nyes8qCsry"
      },
      "source": [
        "# Append results in dataframe\n",
        "data = [{'Model Name': 'AdaBoost on PCA Data', \n",
        "         'Train Accuracy': accuracy_score(y_train, pred_train_ada),\n",
        "         'Validation Accuracy': accuracy_score(y_validation, pred_valid_ada),\n",
        "         'Test Accuracy': accuracy_score(y_test, pred_test_ada),}]\n",
        "df_results = df_results.append(data, ignore_index=True)"
      ],
      "execution_count": null,
      "outputs": []
    },
    {
      "cell_type": "markdown",
      "metadata": {
        "id": "h1oS7btrAWR3"
      },
      "source": [
        "<u>2. Random Forest Classifier</u>"
      ]
    },
    {
      "cell_type": "code",
      "metadata": {
        "id": "n-Uyxe0RV1jt"
      },
      "source": [
        "from sklearn.ensemble import RandomForestClassifier"
      ],
      "execution_count": null,
      "outputs": []
    },
    {
      "cell_type": "code",
      "metadata": {
        "id": "lVW7DeK_V1jt"
      },
      "source": [
        "rfc = RandomForestClassifier(random_state=42)"
      ],
      "execution_count": null,
      "outputs": []
    },
    {
      "cell_type": "markdown",
      "metadata": {
        "id": "uK_el02iV1jt"
      },
      "source": [
        "Implementing GridSearch CV"
      ]
    },
    {
      "cell_type": "code",
      "metadata": {
        "id": "eFyyTS-9V1jt"
      },
      "source": [
        "from sklearn.model_selection import GridSearchCV"
      ],
      "execution_count": null,
      "outputs": []
    },
    {
      "cell_type": "code",
      "metadata": {
        "id": "qatnumh-V1jt"
      },
      "source": [
        "# Create the random grid\n",
        "param_grid = { \n",
        "    'n_estimators': [400,500,600],\n",
        "    'max_features': ['auto', 'log2'],\n",
        "}\n",
        "\n",
        "rfc_grid = GridSearchCV(estimator=rfc, param_grid=param_grid, cv= 5)"
      ],
      "execution_count": null,
      "outputs": []
    },
    {
      "cell_type": "code",
      "metadata": {
        "colab": {
          "base_uri": "https://localhost:8080/"
        },
        "id": "CifHSKYCV1jt",
        "outputId": "fb961416-a912-477c-b47b-1ef8bc7bedb9"
      },
      "source": [
        "rfc_grid.fit(X_train,y_train)"
      ],
      "execution_count": null,
      "outputs": [
        {
          "output_type": "execute_result",
          "data": {
            "text/plain": [
              "GridSearchCV(cv=5, error_score=nan,\n",
              "             estimator=RandomForestClassifier(bootstrap=True, ccp_alpha=0.0,\n",
              "                                              class_weight=None,\n",
              "                                              criterion='gini', max_depth=None,\n",
              "                                              max_features='auto',\n",
              "                                              max_leaf_nodes=None,\n",
              "                                              max_samples=None,\n",
              "                                              min_impurity_decrease=0.0,\n",
              "                                              min_impurity_split=None,\n",
              "                                              min_samples_leaf=1,\n",
              "                                              min_samples_split=2,\n",
              "                                              min_weight_fraction_leaf=0.0,\n",
              "                                              n_estimators=100, n_jobs=None,\n",
              "                                              oob_score=False, random_state=42,\n",
              "                                              verbose=0, warm_start=False),\n",
              "             iid='deprecated', n_jobs=None,\n",
              "             param_grid={'max_features': ['auto', 'log2'],\n",
              "                         'n_estimators': [400, 500, 600]},\n",
              "             pre_dispatch='2*n_jobs', refit=True, return_train_score=False,\n",
              "             scoring=None, verbose=0)"
            ]
          },
          "metadata": {
            "tags": []
          },
          "execution_count": 103
        }
      ]
    },
    {
      "cell_type": "code",
      "metadata": {
        "colab": {
          "base_uri": "https://localhost:8080/"
        },
        "id": "6LGTuI4tV1jt",
        "outputId": "d8ab36b5-57fa-4c8d-b629-5039e8607d86"
      },
      "source": [
        "rfc_grid.best_params_"
      ],
      "execution_count": null,
      "outputs": [
        {
          "output_type": "execute_result",
          "data": {
            "text/plain": [
              "{'max_features': 'auto', 'n_estimators': 500}"
            ]
          },
          "metadata": {
            "tags": []
          },
          "execution_count": 104
        }
      ]
    },
    {
      "cell_type": "code",
      "metadata": {
        "id": "5mxaWAykV1ju"
      },
      "source": [
        "rfc = RandomForestClassifier(random_state=42,n_estimators= 500).fit(X_train,y_train)"
      ],
      "execution_count": null,
      "outputs": []
    },
    {
      "cell_type": "code",
      "metadata": {
        "colab": {
          "base_uri": "https://localhost:8080/"
        },
        "id": "iNeLBnP1V1ju",
        "outputId": "556d99aa-fc1a-4a09-a978-c56f72722041"
      },
      "source": [
        "# model assessment\n",
        "pred_train_rfc = rfc.predict(X_train)\n",
        "pred_valid_rfc = rfc.predict(X_validation)\n",
        "pred_test_rfc  = rfc.predict(X_test)\n",
        "\n",
        "print(classification_report(y_test,pred_test_rfc))"
      ],
      "execution_count": null,
      "outputs": [
        {
          "output_type": "stream",
          "text": [
            "              precision    recall  f1-score   support\n",
            "\n",
            "           0       0.99      0.99      0.99       537\n",
            "           1       0.87      0.79      0.83       491\n",
            "           2       0.83      0.90      0.86       532\n",
            "           3       0.85      0.97      0.91       496\n",
            "           4       0.92      0.80      0.85       420\n",
            "           5       0.92      0.90      0.91       471\n",
            "\n",
            "    accuracy                           0.89      2947\n",
            "   macro avg       0.90      0.89      0.89      2947\n",
            "weighted avg       0.90      0.89      0.89      2947\n",
            "\n"
          ],
          "name": "stdout"
        }
      ]
    },
    {
      "cell_type": "code",
      "metadata": {
        "colab": {
          "base_uri": "https://localhost:8080/"
        },
        "id": "2as_Q2y2V1ju",
        "outputId": "fe07d856-df70-46d7-d497-8afafa43229c"
      },
      "source": [
        "print('Train Accuracy: ', accuracy_score(y_train, pred_train_rfc))\n",
        "print('Validation Accuraccy: ', accuracy_score(y_validation, pred_valid_rfc))\n",
        "print('Test Accuraccy: ', accuracy_score(y_test, pred_test_rfc))"
      ],
      "execution_count": null,
      "outputs": [
        {
          "output_type": "stream",
          "text": [
            "Train Accuracy:  1.0\n",
            "Validation Accuraccy:  0.9422161794697484\n",
            "Test Accuraccy:  0.8944689514760774\n"
          ],
          "name": "stdout"
        }
      ]
    },
    {
      "cell_type": "code",
      "metadata": {
        "id": "FciV5pq0C6t9"
      },
      "source": [
        "# Append results in dataframe\n",
        "data = [{'Model Name': 'Random Forest on PCA Data', \n",
        "         'Train Accuracy': accuracy_score(y_train, pred_train_rfc),\n",
        "         'Validation Accuracy': accuracy_score(y_validation, pred_valid_rfc),\n",
        "         'Test Accuracy': accuracy_score(y_test, pred_test_rfc),}]\n",
        "df_results = df_results.append(data, ignore_index=True)"
      ],
      "execution_count": null,
      "outputs": []
    },
    {
      "cell_type": "markdown",
      "metadata": {
        "id": "F3UPa-XyV1ju"
      },
      "source": [
        "<u>3. XGBoost Classifier</u>"
      ]
    },
    {
      "cell_type": "code",
      "metadata": {
        "id": "bYon4jqZV1ju"
      },
      "source": [
        "import time\n",
        "from xgboost import XGBClassifier"
      ],
      "execution_count": null,
      "outputs": []
    },
    {
      "cell_type": "code",
      "metadata": {
        "id": "Xg0VAd7rV1jv"
      },
      "source": [
        "#XGBoost classifier\n",
        "model = XGBClassifier(tree_method = \"gpu_hist\",early_stopping=10,n_estimators=500, random_state=42)"
      ],
      "execution_count": null,
      "outputs": []
    },
    {
      "cell_type": "code",
      "metadata": {
        "colab": {
          "base_uri": "https://localhost:8080/"
        },
        "id": "WU5kK-OwV1jv",
        "outputId": "f7fd58ab-330e-47c2-bfb7-0428dd0aac80"
      },
      "source": [
        "# fit the model\n",
        "model.fit(X_train, y_train)"
      ],
      "execution_count": null,
      "outputs": [
        {
          "output_type": "execute_result",
          "data": {
            "text/plain": [
              "XGBClassifier(base_score=0.5, booster='gbtree', colsample_bylevel=1,\n",
              "              colsample_bynode=1, colsample_bytree=1, early_stopping=10,\n",
              "              gamma=0, learning_rate=0.1, max_delta_step=0, max_depth=3,\n",
              "              min_child_weight=1, missing=None, n_estimators=500, n_jobs=1,\n",
              "              nthread=None, objective='multi:softprob', random_state=42,\n",
              "              reg_alpha=0, reg_lambda=1, scale_pos_weight=1, seed=None,\n",
              "              silent=None, subsample=1, tree_method='gpu_hist', verbosity=1)"
            ]
          },
          "metadata": {
            "tags": []
          },
          "execution_count": 111
        }
      ]
    },
    {
      "cell_type": "code",
      "metadata": {
        "colab": {
          "base_uri": "https://localhost:8080/"
        },
        "id": "BZNV_s32V1jv",
        "outputId": "bae552ca-f8e5-41a4-ae55-57cc6cdfd0de"
      },
      "source": [
        "# model assessment\n",
        "pred_train_xgboost = model.predict(X_train)\n",
        "pred_valid_xgboost = model.predict(X_validation)\n",
        "pred_test_xgboost  = model.predict(X_test)\n",
        "\n",
        "print(classification_report(y_test,pred_test_xgboost))"
      ],
      "execution_count": null,
      "outputs": [
        {
          "output_type": "stream",
          "text": [
            "              precision    recall  f1-score   support\n",
            "\n",
            "           0       0.99      0.98      0.99       537\n",
            "           1       0.88      0.84      0.86       491\n",
            "           2       0.87      0.91      0.89       532\n",
            "           3       0.90      0.96      0.93       496\n",
            "           4       0.93      0.84      0.88       420\n",
            "           5       0.90      0.92      0.91       471\n",
            "\n",
            "    accuracy                           0.91      2947\n",
            "   macro avg       0.91      0.91      0.91      2947\n",
            "weighted avg       0.91      0.91      0.91      2947\n",
            "\n"
          ],
          "name": "stdout"
        }
      ]
    },
    {
      "cell_type": "code",
      "metadata": {
        "colab": {
          "base_uri": "https://localhost:8080/"
        },
        "id": "GB3jx_EbV1jv",
        "outputId": "ddb09adc-8ff9-468c-e60f-c287d9f196c1"
      },
      "source": [
        "print('Train Accuracy: ', accuracy_score(y_train, pred_train_xgboost))\n",
        "print('Validation Accuraccy: ', accuracy_score(y_validation, pred_valid_xgboost))\n",
        "print('Test Accuraccy: ', accuracy_score(y_test, pred_test_xgboost))"
      ],
      "execution_count": null,
      "outputs": [
        {
          "output_type": "stream",
          "text": [
            "Train Accuracy:  1.0\n",
            "Validation Accuraccy:  0.9496940856560163\n",
            "Test Accuraccy:  0.9114353579911775\n"
          ],
          "name": "stdout"
        }
      ]
    },
    {
      "cell_type": "code",
      "metadata": {
        "id": "aQkbJYFdDFVu"
      },
      "source": [
        "# Append results in dataframe\n",
        "data = [{'Model Name': 'XGBoost on PCA Data', \n",
        "         'Train Accuracy': accuracy_score(y_train, pred_train_xgboost),\n",
        "         'Validation Accuracy': accuracy_score(y_validation, pred_valid_xgboost),\n",
        "         'Test Accuracy': accuracy_score(y_test, pred_test_xgboost),}]\n",
        "df_results = df_results.append(data, ignore_index=True)"
      ],
      "execution_count": null,
      "outputs": []
    },
    {
      "cell_type": "code",
      "metadata": {
        "id": "DkiW_JzcV1jv"
      },
      "source": [
        "model_new = XGBClassifier(tree_method = \"gpu_hist\",n_estimators=500, random_state=42,reg_lambda=1)"
      ],
      "execution_count": null,
      "outputs": []
    },
    {
      "cell_type": "code",
      "metadata": {
        "id": "LRXwY7ySV1jv"
      },
      "source": [
        "# define the eval set and metric\n",
        "eval_set = [(X_train, y_train), (X_validation, y_validation)]\n",
        "eval_metric = [\"merror\",\"mlogloss\"]"
      ],
      "execution_count": null,
      "outputs": []
    },
    {
      "cell_type": "code",
      "metadata": {
        "colab": {
          "base_uri": "https://localhost:8080/"
        },
        "id": "bofvGT5VV1jw",
        "outputId": "a300d7c7-660b-4018-a0fe-798370637118"
      },
      "source": [
        "%time model_new.fit(X_train, y_train, eval_metric=eval_metric, eval_set=eval_set, verbose=False)"
      ],
      "execution_count": null,
      "outputs": [
        {
          "output_type": "stream",
          "text": [
            "CPU times: user 9.1 s, sys: 31 ms, total: 9.13 s\n",
            "Wall time: 9.1 s\n"
          ],
          "name": "stdout"
        },
        {
          "output_type": "execute_result",
          "data": {
            "text/plain": [
              "XGBClassifier(base_score=0.5, booster='gbtree', colsample_bylevel=1,\n",
              "              colsample_bynode=1, colsample_bytree=1, gamma=0,\n",
              "              learning_rate=0.1, max_delta_step=0, max_depth=3,\n",
              "              min_child_weight=1, missing=None, n_estimators=500, n_jobs=1,\n",
              "              nthread=None, objective='multi:softprob', random_state=42,\n",
              "              reg_alpha=0, reg_lambda=1, scale_pos_weight=1, seed=None,\n",
              "              silent=None, subsample=1, tree_method='gpu_hist', verbosity=1)"
            ]
          },
          "metadata": {
            "tags": []
          },
          "execution_count": 117
        }
      ]
    },
    {
      "cell_type": "code",
      "metadata": {
        "id": "-n0I85yqV1jw"
      },
      "source": [
        "# retrieve performance metrics\n",
        "results = model_new.evals_result()"
      ],
      "execution_count": null,
      "outputs": []
    },
    {
      "cell_type": "code",
      "metadata": {
        "colab": {
          "base_uri": "https://localhost:8080/",
          "height": 545
        },
        "id": "9uwnjhm7V1jw",
        "outputId": "288e61b3-8181-47df-d86f-532488b0b2be"
      },
      "source": [
        "epochs = len(results['validation_0']['merror'])\n",
        "x_axis = range(0, epochs)\n",
        "# plot log loss\n",
        "fig, ax = plt.subplots()\n",
        "ax.plot(x_axis, results['validation_0']['mlogloss'], label='Train')\n",
        "ax.plot(x_axis, results['validation_1']['mlogloss'], label='Validation')\n",
        "ax.legend()\n",
        "plt.ylabel('Log Loss')\n",
        "plt.title('XGBoost Log Loss')\n",
        "plt.show()\n",
        "# plot classification error\n",
        "fig, ax = plt.subplots()\n",
        "ax.plot(x_axis, results['validation_0']['merror'], label='Train')\n",
        "ax.plot(x_axis, results['validation_1']['merror'], label='Validation')\n",
        "ax.legend()\n",
        "plt.ylabel('Classification Error')\n",
        "plt.title('XGBoost Classification Error')\n",
        "plt.show()"
      ],
      "execution_count": null,
      "outputs": [
        {
          "output_type": "display_data",
          "data": {
            "image/png": "[encoded data removed]",
            "text/plain": [
              "<Figure size 432x288 with 1 Axes>"
            ]
          },
          "metadata": {
            "tags": [],
            "needs_background": "light"
          }
        },
        {
          "output_type": "display_data",
          "data": {
            "image/png": "[encoded data removed]",
            "text/plain": [
              "<Figure size 432x288 with 1 Axes>"
            ]
          },
          "metadata": {
            "tags": [],
            "needs_background": "light"
          }
        }
      ]
    },
    {
      "cell_type": "markdown",
      "metadata": {
        "id": "RltT5CwiPPcs"
      },
      "source": [
        "<b><u>Implementing t-SNE on reduced data generated using PCA</u></b>"
      ]
    },
    {
      "cell_type": "code",
      "metadata": {
        "colab": {
          "base_uri": "https://localhost:8080/"
        },
        "id": "npGRalrIPsgx",
        "outputId": "2df77f80-9165-44fa-ceca-8f427951377c"
      },
      "source": [
        "X_tsne      =Projected_df.drop('Class', axis=1)\n",
        "X_test_tsne =Projected_df_test.drop('Class', axis=1)\n",
        "print(\"X Shape\",X_tsne.shape)"
      ],
      "execution_count": null,
      "outputs": [
        {
          "output_type": "stream",
          "text": [
            "X Shape (7352, 34)\n"
          ],
          "name": "stdout"
        }
      ]
    },
    {
      "cell_type": "code",
      "metadata": {
        "id": "_mjjH0Soz5he"
      },
      "source": [
        "size_train = X_tsne.shape[0]\n",
        "X_total = np.vstack((X_tsne,X_test_tsne))\n",
        "y_total = y.append(y_test,ignore_index= True)"
      ],
      "execution_count": null,
      "outputs": []
    },
    {
      "cell_type": "code",
      "metadata": {
        "id": "4WTl8YmdPNyH"
      },
      "source": [
        "# Import library for TSNE\n",
        "from sklearn.manifold import TSNE\n",
        "\n",
        "tsne = TSNE(n_components=2, random_state=42)\n",
        "X_embedded = tsne.fit_transform(X_total)\n",
        "\n",
        "X_train_tsne = X_embedded[0:size_train,:]\n",
        "X_test_tsne  = X_embedded[size_train:,:]"
      ],
      "execution_count": null,
      "outputs": []
    },
    {
      "cell_type": "code",
      "metadata": {
        "colab": {
          "base_uri": "https://localhost:8080/",
          "height": 283
        },
        "id": "asyrlszVcAdk",
        "outputId": "d7888e4a-afdf-4d5a-ade3-afc1e433d299"
      },
      "source": [
        "# Plot the tsne in 2-D\n",
        "c_map = plt.cm.get_cmap('rainbow', 10)\n",
        "plt.scatter(X_embedded[:,0], X_embedded[:,1], cmap = c_map, s= 15, c=y_total, alpha=0.5)\n",
        "plt.colorbar()\n",
        "plt.xlabel('Principal Component 1')\n",
        "plt.ylabel('Principal Component 2')\n",
        "plt.show()"
      ],
      "execution_count": null,
      "outputs": [
        {
          "output_type": "display_data",
          "data": {
            "image/png": "[encoded data removed]",
            "text/plain": [
              "<Figure size 432x288 with 2 Axes>"
            ]
          },
          "metadata": {
            "tags": [],
            "needs_background": "light"
          }
        }
      ]
    },
    {
      "cell_type": "code",
      "metadata": {
        "id": "zeuq-Zl_QLZY"
      },
      "source": [
        "#Building the Projected dataframe\n",
        "Projected_columns_tsne=[]\n",
        "for i in range(tsne.n_components):\n",
        "  Projected_columns_tsne.append('col_'+str(i))"
      ],
      "execution_count": null,
      "outputs": []
    },
    {
      "cell_type": "code",
      "metadata": {
        "id": "hAi1s8_DQLZo"
      },
      "source": [
        "Projected_df_tsne= pd.DataFrame(X_train_tsne ,columns=Projected_columns_tsne)"
      ],
      "execution_count": null,
      "outputs": []
    },
    {
      "cell_type": "code",
      "metadata": {
        "id": "K_24FCz5Qcsn"
      },
      "source": [
        "Projected_df_tsne[\"Class\"]=y"
      ],
      "execution_count": null,
      "outputs": []
    },
    {
      "cell_type": "code",
      "metadata": {
        "colab": {
          "base_uri": "https://localhost:8080/",
          "height": 205
        },
        "id": "K_Vra8oKQcso",
        "outputId": "ebdd573f-5cf9-4a26-d693-5a5ce1b88ce6"
      },
      "source": [
        "Projected_df_tsne.head()"
      ],
      "execution_count": null,
      "outputs": [
        {
          "output_type": "execute_result",
          "data": {
            "text/html": [
              "<div>\n",
              "<style scoped>\n",
              "    .dataframe tbody tr th:only-of-type {\n",
              "        vertical-align: middle;\n",
              "    }\n",
              "\n",
              "    .dataframe tbody tr th {\n",
              "        vertical-align: top;\n",
              "    }\n",
              "\n",
              "    .dataframe thead th {\n",
              "        text-align: right;\n",
              "    }\n",
              "</style>\n",
              "<table border=\"1\" class=\"dataframe\">\n",
              "  <thead>\n",
              "    <tr style=\"text-align: right;\">\n",
              "      <th></th>\n",
              "      <th>col_0</th>\n",
              "      <th>col_1</th>\n",
              "      <th>Class</th>\n",
              "    </tr>\n",
              "  </thead>\n",
              "  <tbody>\n",
              "    <tr>\n",
              "      <th>0</th>\n",
              "      <td>-61.516773</td>\n",
              "      <td>-50.214352</td>\n",
              "      <td>2</td>\n",
              "    </tr>\n",
              "    <tr>\n",
              "      <th>1</th>\n",
              "      <td>-35.106689</td>\n",
              "      <td>4.534474</td>\n",
              "      <td>2</td>\n",
              "    </tr>\n",
              "    <tr>\n",
              "      <th>2</th>\n",
              "      <td>-39.445278</td>\n",
              "      <td>3.675577</td>\n",
              "      <td>2</td>\n",
              "    </tr>\n",
              "    <tr>\n",
              "      <th>3</th>\n",
              "      <td>-46.739849</td>\n",
              "      <td>5.357499</td>\n",
              "      <td>2</td>\n",
              "    </tr>\n",
              "    <tr>\n",
              "      <th>4</th>\n",
              "      <td>-47.895813</td>\n",
              "      <td>4.257446</td>\n",
              "      <td>2</td>\n",
              "    </tr>\n",
              "  </tbody>\n",
              "</table>\n",
              "</div>"
            ],
            "text/plain": [
              "       col_0      col_1  Class\n",
              "0 -61.516773 -50.214352      2\n",
              "1 -35.106689   4.534474      2\n",
              "2 -39.445278   3.675577      2\n",
              "3 -46.739849   5.357499      2\n",
              "4 -47.895813   4.257446      2"
            ]
          },
          "metadata": {
            "tags": []
          },
          "execution_count": 127
        }
      ]
    },
    {
      "cell_type": "code",
      "metadata": {
        "id": "eOejSuXa_vxB"
      },
      "source": [
        "Projected_df_tsne.to_csv(\"PCA_train_data_tsne.csv\")"
      ],
      "execution_count": null,
      "outputs": []
    },
    {
      "cell_type": "code",
      "metadata": {
        "id": "0TYKHP4gxeoY"
      },
      "source": [
        "#Building the Projected dataframe\n",
        "Projected_columns_tsne=[]\n",
        "for i in range(tsne.n_components):\n",
        "  Projected_columns_tsne.append('col_'+str(i))"
      ],
      "execution_count": null,
      "outputs": []
    },
    {
      "cell_type": "code",
      "metadata": {
        "id": "L95CdIroxeoY"
      },
      "source": [
        "Projected_df_test_tsne= pd.DataFrame(X_test_tsne ,columns=Projected_columns_tsne)"
      ],
      "execution_count": null,
      "outputs": []
    },
    {
      "cell_type": "code",
      "metadata": {
        "id": "Y-iPxfQTxeoZ"
      },
      "source": [
        "Projected_df_test_tsne[\"Class\"]=y_test"
      ],
      "execution_count": null,
      "outputs": []
    },
    {
      "cell_type": "code",
      "metadata": {
        "colab": {
          "base_uri": "https://localhost:8080/",
          "height": 205
        },
        "id": "UoTUIGngxeoZ",
        "outputId": "a6ef6eeb-237b-492d-def2-066d593db702"
      },
      "source": [
        "Projected_df_test_tsne.head()"
      ],
      "execution_count": null,
      "outputs": [
        {
          "output_type": "execute_result",
          "data": {
            "text/html": [
              "<div>\n",
              "<style scoped>\n",
              "    .dataframe tbody tr th:only-of-type {\n",
              "        vertical-align: middle;\n",
              "    }\n",
              "\n",
              "    .dataframe tbody tr th {\n",
              "        vertical-align: top;\n",
              "    }\n",
              "\n",
              "    .dataframe thead th {\n",
              "        text-align: right;\n",
              "    }\n",
              "</style>\n",
              "<table border=\"1\" class=\"dataframe\">\n",
              "  <thead>\n",
              "    <tr style=\"text-align: right;\">\n",
              "      <th></th>\n",
              "      <th>col_0</th>\n",
              "      <th>col_1</th>\n",
              "      <th>Class</th>\n",
              "    </tr>\n",
              "  </thead>\n",
              "  <tbody>\n",
              "    <tr>\n",
              "      <th>0</th>\n",
              "      <td>-18.683191</td>\n",
              "      <td>-32.959248</td>\n",
              "      <td>2</td>\n",
              "    </tr>\n",
              "    <tr>\n",
              "      <th>1</th>\n",
              "      <td>-27.658190</td>\n",
              "      <td>-25.297066</td>\n",
              "      <td>2</td>\n",
              "    </tr>\n",
              "    <tr>\n",
              "      <th>2</th>\n",
              "      <td>-52.570072</td>\n",
              "      <td>-22.878273</td>\n",
              "      <td>2</td>\n",
              "    </tr>\n",
              "    <tr>\n",
              "      <th>3</th>\n",
              "      <td>-52.833469</td>\n",
              "      <td>-23.393539</td>\n",
              "      <td>2</td>\n",
              "    </tr>\n",
              "    <tr>\n",
              "      <th>4</th>\n",
              "      <td>-40.532623</td>\n",
              "      <td>-40.770279</td>\n",
              "      <td>2</td>\n",
              "    </tr>\n",
              "  </tbody>\n",
              "</table>\n",
              "</div>"
            ],
            "text/plain": [
              "       col_0      col_1  Class\n",
              "0 -18.683191 -32.959248      2\n",
              "1 -27.658190 -25.297066      2\n",
              "2 -52.570072 -22.878273      2\n",
              "3 -52.833469 -23.393539      2\n",
              "4 -40.532623 -40.770279      2"
            ]
          },
          "metadata": {
            "tags": []
          },
          "execution_count": 132
        }
      ]
    },
    {
      "cell_type": "code",
      "metadata": {
        "id": "3fW_dtVhxeoa"
      },
      "source": [
        "Projected_df_test_tsne.to_csv(\"PCA_test_data_tsne.csv\")"
      ],
      "execution_count": null,
      "outputs": []
    },
    {
      "cell_type": "markdown",
      "metadata": {
        "id": "GgLt8D_HSgB8"
      },
      "source": [
        "<u>Train Validation Test Split on TSNE Data</u>  \n",
        "Train Test is split into Training and Validation Set.    \n",
        "Testing Set is separate from beginning."
      ]
    },
    {
      "cell_type": "code",
      "metadata": {
        "id": "mMxHcmetul2Z"
      },
      "source": [
        "XX=Projected_df_tsne.drop(columns=\"Class\",axis=1)\n",
        "yy=Projected_df_tsne[\"Class\"]"
      ],
      "execution_count": null,
      "outputs": []
    },
    {
      "cell_type": "code",
      "metadata": {
        "id": "TpnmpsjDyAbP"
      },
      "source": [
        "X_test = Projected_df_test_tsne.drop(columns=\"Class\",axis=1)\n",
        "y_test = Projected_df_test_tsne[\"Class\"]"
      ],
      "execution_count": null,
      "outputs": []
    },
    {
      "cell_type": "code",
      "metadata": {
        "id": "OqbXtE7xpP-1"
      },
      "source": [
        "from sklearn.model_selection import train_test_split"
      ],
      "execution_count": null,
      "outputs": []
    },
    {
      "cell_type": "code",
      "metadata": {
        "id": "xY-MgysGpc-8"
      },
      "source": [
        "X_train, X_validation, y_train, y_validation = train_test_split(XX, yy, test_size=0.20, random_state=101)"
      ],
      "execution_count": null,
      "outputs": []
    },
    {
      "cell_type": "markdown",
      "metadata": {
        "id": "nSn8sfZ0S7aD"
      },
      "source": [
        "<b>Implementing Machine Learning Models on t-SNE Data</b>   \n",
        "<u>1. Random Forest Classifier</u>"
      ]
    },
    {
      "cell_type": "code",
      "metadata": {
        "id": "oOsf26m8ztwZ"
      },
      "source": [
        "from sklearn.metrics import classification_report, accuracy_score\n",
        "from sklearn.ensemble import RandomForestClassifier"
      ],
      "execution_count": null,
      "outputs": []
    },
    {
      "cell_type": "code",
      "metadata": {
        "id": "AGq10rpTz9va"
      },
      "source": [
        "rfc = RandomForestClassifier(random_state=42)"
      ],
      "execution_count": null,
      "outputs": []
    },
    {
      "cell_type": "markdown",
      "metadata": {
        "id": "XQdG0_A--cm9"
      },
      "source": [
        "Implementing GridSearch CV"
      ]
    },
    {
      "cell_type": "code",
      "metadata": {
        "id": "vnLVDZggAdxu"
      },
      "source": [
        "from sklearn.model_selection import GridSearchCV"
      ],
      "execution_count": null,
      "outputs": []
    },
    {
      "cell_type": "code",
      "metadata": {
        "id": "w5c-SYfi8u4w"
      },
      "source": [
        "# Create the random grid\n",
        "param_grid = { \n",
        "    'n_estimators': [400, 500,600],\n",
        "    'max_features': ['auto', 'log2'],\n",
        "}\n",
        "\n",
        "rfc_grid = GridSearchCV(estimator=rfc, param_grid=param_grid, cv= 5)"
      ],
      "execution_count": null,
      "outputs": []
    },
    {
      "cell_type": "code",
      "metadata": {
        "colab": {
          "base_uri": "https://localhost:8080/"
        },
        "id": "U5xIUNwd0AX4",
        "outputId": "f1f8ca5d-2140-4bf6-a4ee-75c5d542578c"
      },
      "source": [
        "rfc_grid.fit(X_train,y_train)"
      ],
      "execution_count": null,
      "outputs": [
        {
          "output_type": "execute_result",
          "data": {
            "text/plain": [
              "GridSearchCV(cv=5, error_score=nan,\n",
              "             estimator=RandomForestClassifier(bootstrap=True, ccp_alpha=0.0,\n",
              "                                              class_weight=None,\n",
              "                                              criterion='gini', max_depth=None,\n",
              "                                              max_features='auto',\n",
              "                                              max_leaf_nodes=None,\n",
              "                                              max_samples=None,\n",
              "                                              min_impurity_decrease=0.0,\n",
              "                                              min_impurity_split=None,\n",
              "                                              min_samples_leaf=1,\n",
              "                                              min_samples_split=2,\n",
              "                                              min_weight_fraction_leaf=0.0,\n",
              "                                              n_estimators=100, n_jobs=None,\n",
              "                                              oob_score=False, random_state=42,\n",
              "                                              verbose=0, warm_start=False),\n",
              "             iid='deprecated', n_jobs=None,\n",
              "             param_grid={'max_features': ['auto', 'log2'],\n",
              "                         'n_estimators': [400, 500, 600]},\n",
              "             pre_dispatch='2*n_jobs', refit=True, return_train_score=False,\n",
              "             scoring=None, verbose=0)"
            ]
          },
          "metadata": {
            "tags": []
          },
          "execution_count": 142
        }
      ]
    },
    {
      "cell_type": "code",
      "metadata": {
        "colab": {
          "base_uri": "https://localhost:8080/"
        },
        "id": "wj5KIrpcQMH0",
        "outputId": "e06b8008-6073-45d4-bde7-3cfe48a85cc0"
      },
      "source": [
        "rfc_grid.best_params_"
      ],
      "execution_count": null,
      "outputs": [
        {
          "output_type": "execute_result",
          "data": {
            "text/plain": [
              "{'max_features': 'auto', 'n_estimators': 400}"
            ]
          },
          "metadata": {
            "tags": []
          },
          "execution_count": 143
        }
      ]
    },
    {
      "cell_type": "code",
      "metadata": {
        "id": "moSN_aXERPlh"
      },
      "source": [
        "rfc = RandomForestClassifier(random_state=42,n_estimators= 500).fit(X_train,y_train)"
      ],
      "execution_count": null,
      "outputs": []
    },
    {
      "cell_type": "code",
      "metadata": {
        "colab": {
          "base_uri": "https://localhost:8080/"
        },
        "id": "Olddod2y0nKi",
        "outputId": "ffa3d72b-5f25-4f3e-86d9-784c471b44df"
      },
      "source": [
        "# model assessment\n",
        "pred_train_rfc = rfc.predict(X_train)\n",
        "pred_valid_rfc = rfc.predict(X_validation)\n",
        "pred_test_rfc  = rfc.predict(X_test)\n",
        "\n",
        "print(classification_report(y_test,pred_test_rfc))"
      ],
      "execution_count": null,
      "outputs": [
        {
          "output_type": "stream",
          "text": [
            "              precision    recall  f1-score   support\n",
            "\n",
            "           0       0.99      1.00      0.99       537\n",
            "           1       0.82      0.70      0.76       491\n",
            "           2       0.76      0.86      0.81       532\n",
            "           3       0.92      0.82      0.87       496\n",
            "           4       0.79      0.85      0.82       420\n",
            "           5       0.81      0.84      0.82       471\n",
            "\n",
            "    accuracy                           0.85      2947\n",
            "   macro avg       0.85      0.85      0.85      2947\n",
            "weighted avg       0.85      0.85      0.85      2947\n",
            "\n"
          ],
          "name": "stdout"
        }
      ]
    },
    {
      "cell_type": "code",
      "metadata": {
        "colab": {
          "base_uri": "https://localhost:8080/"
        },
        "id": "Q7O5UAmK0nKl",
        "outputId": "9948e78a-fa3f-4d6f-a44e-4e3381dbf952"
      },
      "source": [
        "print('Train Accuracy: ', accuracy_score(y_train, pred_train_rfc))\n",
        "print('Validation Accuraccy: ', accuracy_score(y_validation, pred_valid_rfc))\n",
        "print('Test Accuraccy: ', accuracy_score(y_test, pred_test_rfc))"
      ],
      "execution_count": null,
      "outputs": [
        {
          "output_type": "stream",
          "text": [
            "Train Accuracy:  1.0\n",
            "Validation Accuraccy:  0.9483344663494222\n",
            "Test Accuraccy:  0.848320325755005\n"
          ],
          "name": "stdout"
        }
      ]
    },
    {
      "cell_type": "code",
      "metadata": {
        "id": "latYbSiIDcb4"
      },
      "source": [
        "# Append results in dataframe\n",
        "data = [{'Model Name': 'Random Forest on t-SNE Data', \n",
        "         'Train Accuracy': accuracy_score(y_train, pred_train_rfc),\n",
        "         'Validation Accuracy': accuracy_score(y_validation, pred_valid_rfc),\n",
        "         'Test Accuracy': accuracy_score(y_test, pred_test_rfc),}]\n",
        "df_results = df_results.append(data, ignore_index=True)"
      ],
      "execution_count": null,
      "outputs": []
    },
    {
      "cell_type": "markdown",
      "metadata": {
        "id": "4b1ONYFeUvwO"
      },
      "source": [
        "<u>2. XGBoost Classifier</u>"
      ]
    },
    {
      "cell_type": "code",
      "metadata": {
        "id": "-6E5yuJh4sip"
      },
      "source": [
        "import time\n",
        "from xgboost import XGBClassifier"
      ],
      "execution_count": null,
      "outputs": []
    },
    {
      "cell_type": "code",
      "metadata": {
        "id": "S5pVaVI15ail"
      },
      "source": [
        "#XGBoost classifier\n",
        "model = XGBClassifier(tree_method = \"gpu_hist\",early_stopping=10,n_estimators=500, random_state=42)"
      ],
      "execution_count": null,
      "outputs": []
    },
    {
      "cell_type": "code",
      "metadata": {
        "id": "gCWFigtZ6Cax",
        "colab": {
          "base_uri": "https://localhost:8080/"
        },
        "outputId": "79d93341-fc05-46d7-ff1a-91ea50179145"
      },
      "source": [
        "# fit the model\n",
        "model.fit(X_train, y_train)"
      ],
      "execution_count": null,
      "outputs": [
        {
          "output_type": "execute_result",
          "data": {
            "text/plain": [
              "XGBClassifier(base_score=0.5, booster='gbtree', colsample_bylevel=1,\n",
              "              colsample_bynode=1, colsample_bytree=1, early_stopping=10,\n",
              "              gamma=0, learning_rate=0.1, max_delta_step=0, max_depth=3,\n",
              "              min_child_weight=1, missing=None, n_estimators=500, n_jobs=1,\n",
              "              nthread=None, objective='multi:softprob', random_state=42,\n",
              "              reg_alpha=0, reg_lambda=1, scale_pos_weight=1, seed=None,\n",
              "              silent=None, subsample=1, tree_method='gpu_hist', verbosity=1)"
            ]
          },
          "metadata": {
            "tags": []
          },
          "execution_count": 150
        }
      ]
    },
    {
      "cell_type": "code",
      "metadata": {
        "id": "5OvIv5F36TW5",
        "colab": {
          "base_uri": "https://localhost:8080/"
        },
        "outputId": "e6d7cee1-c931-4563-81e1-493f7d7bc26b"
      },
      "source": [
        "# model assessment\n",
        "pred_train_model = model.predict(X_train)\n",
        "pred_valid_model = model.predict(X_validation)\n",
        "pred_test_model  = model.predict(X_test)\n",
        "\n",
        "print(classification_report(y_test,pred_test_model))"
      ],
      "execution_count": null,
      "outputs": [
        {
          "output_type": "stream",
          "text": [
            "              precision    recall  f1-score   support\n",
            "\n",
            "           0       1.00      0.99      0.99       537\n",
            "           1       0.85      0.64      0.73       491\n",
            "           2       0.73      0.90      0.81       532\n",
            "           3       0.84      0.81      0.82       496\n",
            "           4       0.71      0.83      0.77       420\n",
            "           5       0.87      0.79      0.83       471\n",
            "\n",
            "    accuracy                           0.83      2947\n",
            "   macro avg       0.83      0.83      0.82      2947\n",
            "weighted avg       0.84      0.83      0.83      2947\n",
            "\n"
          ],
          "name": "stdout"
        }
      ]
    },
    {
      "cell_type": "code",
      "metadata": {
        "id": "FrGuI_Hw_dOF",
        "colab": {
          "base_uri": "https://localhost:8080/"
        },
        "outputId": "9e689e63-25f8-4003-e2c4-8f209217ae4c"
      },
      "source": [
        "print('Train Accuracy: ', accuracy_score(y_train, pred_train_model))\n",
        "print('Validation Accuraccy: ', accuracy_score(y_validation, pred_valid_model))\n",
        "print('Test Accuraccy: ', accuracy_score(y_test, pred_test_model))"
      ],
      "execution_count": null,
      "outputs": [
        {
          "output_type": "stream",
          "text": [
            "Train Accuracy:  0.95068865839143\n",
            "Validation Accuraccy:  0.9129843643779741\n",
            "Test Accuraccy:  0.828978622327791\n"
          ],
          "name": "stdout"
        }
      ]
    },
    {
      "cell_type": "code",
      "metadata": {
        "id": "81S5ZgjtDpqU"
      },
      "source": [
        "# Append results in dataframe\n",
        "data = [{'Model Name': 'XGBoost on t-SNE Data', \n",
        "         'Train Accuracy': accuracy_score(y_train, pred_train_model),\n",
        "         'Validation Accuracy': accuracy_score(y_validation, pred_valid_model),\n",
        "         'Test Accuracy': accuracy_score(y_test, pred_test_model),}]\n",
        "df_results = df_results.append(data, ignore_index=True)"
      ],
      "execution_count": null,
      "outputs": []
    },
    {
      "cell_type": "code",
      "metadata": {
        "id": "Y2FK4PoLwdQe"
      },
      "source": [
        "model_new = XGBClassifier(tree_method = \"gpu_hist\",n_estimators=500, random_state=0,reg_lambda=1)"
      ],
      "execution_count": null,
      "outputs": []
    },
    {
      "cell_type": "code",
      "metadata": {
        "id": "OknJGWK1AZet"
      },
      "source": [
        "# define the eval set and metric\n",
        "eval_set = [(X_train, y_train), (X_validation, y_validation)]\n",
        "eval_metric = [\"merror\",\"mlogloss\"]"
      ],
      "execution_count": null,
      "outputs": []
    },
    {
      "cell_type": "code",
      "metadata": {
        "colab": {
          "base_uri": "https://localhost:8080/"
        },
        "id": "0flyPuApAe2s",
        "outputId": "0f308478-21e1-4167-bfad-fb27aa75e642"
      },
      "source": [
        "%time model_new.fit(X_train, y_train, eval_metric=eval_metric, eval_set=eval_set, verbose=False)"
      ],
      "execution_count": null,
      "outputs": [
        {
          "output_type": "stream",
          "text": [
            "CPU times: user 15.5 s, sys: 57.9 ms, total: 15.6 s\n",
            "Wall time: 15.6 s\n"
          ],
          "name": "stdout"
        },
        {
          "output_type": "execute_result",
          "data": {
            "text/plain": [
              "XGBClassifier(base_score=0.5, booster='gbtree', colsample_bylevel=1,\n",
              "              colsample_bynode=1, colsample_bytree=1, gamma=0,\n",
              "              learning_rate=0.1, max_delta_step=0, max_depth=3,\n",
              "              min_child_weight=1, missing=None, n_estimators=500, n_jobs=1,\n",
              "              nthread=None, objective='multi:softprob', random_state=0,\n",
              "              reg_alpha=0, reg_lambda=1, scale_pos_weight=1, seed=None,\n",
              "              silent=None, subsample=1, tree_method='gpu_hist', verbosity=1)"
            ]
          },
          "metadata": {
            "tags": []
          },
          "execution_count": 156
        }
      ]
    },
    {
      "cell_type": "code",
      "metadata": {
        "id": "1tM5eBlB_64b"
      },
      "source": [
        "# retrieve performance metrics\n",
        "results = model_new.evals_result()"
      ],
      "execution_count": null,
      "outputs": []
    },
    {
      "cell_type": "code",
      "metadata": {
        "colab": {
          "base_uri": "https://localhost:8080/",
          "height": 545
        },
        "id": "cAEQg9SEwIip",
        "outputId": "e0101b27-524b-4cc2-bce9-3bb12799bdf1"
      },
      "source": [
        "epochs = len(results['validation_0']['merror'])\n",
        "x_axis = range(0, epochs)\n",
        "# plot log loss\n",
        "fig, ax = plt.subplots()\n",
        "ax.plot(x_axis, results['validation_0']['mlogloss'], label='Train')\n",
        "ax.plot(x_axis, results['validation_1']['mlogloss'], label='Validation')\n",
        "ax.legend()\n",
        "plt.ylabel('Log Loss')\n",
        "plt.title('XGBoost Log Loss')\n",
        "plt.show()\n",
        "# plot classification error\n",
        "fig, ax = plt.subplots()\n",
        "ax.plot(x_axis, results['validation_0']['merror'], label='Train')\n",
        "ax.plot(x_axis, results['validation_1']['merror'], label='Validation')\n",
        "ax.legend()\n",
        "plt.ylabel('Classification Error')\n",
        "plt.title('XGBoost Classification Error')\n",
        "plt.show()"
      ],
      "execution_count": null,
      "outputs": [
        {
          "output_type": "display_data",
          "data": {
            "image/png": "[encoded data removed]",
            "text/plain": [
              "<Figure size 432x288 with 1 Axes>"
            ]
          },
          "metadata": {
            "tags": [],
            "needs_background": "light"
          }
        },
        {
          "output_type": "display_data",
          "data": {
            "image/png": "[encoded data removed]",
            "text/plain": [
              "<Figure size 432x288 with 1 Axes>"
            ]
          },
          "metadata": {
            "tags": [],
            "needs_background": "light"
          }
        }
      ]
    },
    {
      "cell_type": "code",
      "metadata": {
        "colab": {
          "base_uri": "https://localhost:8080/",
          "height": 205
        },
        "id": "38W0Ii9lD3qG",
        "outputId": "e38b74ea-4dd7-462c-f8bb-95902775c001"
      },
      "source": [
        "df_results.head()"
      ],
      "execution_count": null,
      "outputs": [
        {
          "output_type": "execute_result",
          "data": {
            "text/html": [
              "<div>\n",
              "<style scoped>\n",
              "    .dataframe tbody tr th:only-of-type {\n",
              "        vertical-align: middle;\n",
              "    }\n",
              "\n",
              "    .dataframe tbody tr th {\n",
              "        vertical-align: top;\n",
              "    }\n",
              "\n",
              "    .dataframe thead th {\n",
              "        text-align: right;\n",
              "    }\n",
              "</style>\n",
              "<table border=\"1\" class=\"dataframe\">\n",
              "  <thead>\n",
              "    <tr style=\"text-align: right;\">\n",
              "      <th></th>\n",
              "      <th>Model Name</th>\n",
              "      <th>Train Accuracy</th>\n",
              "      <th>Validation Accuracy</th>\n",
              "      <th>Test Accuracy</th>\n",
              "    </tr>\n",
              "  </thead>\n",
              "  <tbody>\n",
              "    <tr>\n",
              "      <th>0</th>\n",
              "      <td>AdaBoost on PCA Data</td>\n",
              "      <td>0.550587</td>\n",
              "      <td>0.531611</td>\n",
              "      <td>0.519172</td>\n",
              "    </tr>\n",
              "    <tr>\n",
              "      <th>1</th>\n",
              "      <td>Random Forest on PCA Data</td>\n",
              "      <td>1.000000</td>\n",
              "      <td>0.942216</td>\n",
              "      <td>0.894469</td>\n",
              "    </tr>\n",
              "    <tr>\n",
              "      <th>2</th>\n",
              "      <td>XGBoost on PCA Data</td>\n",
              "      <td>1.000000</td>\n",
              "      <td>0.949694</td>\n",
              "      <td>0.911435</td>\n",
              "    </tr>\n",
              "    <tr>\n",
              "      <th>3</th>\n",
              "      <td>Random Forest on t-SNE Data</td>\n",
              "      <td>1.000000</td>\n",
              "      <td>0.948334</td>\n",
              "      <td>0.848320</td>\n",
              "    </tr>\n",
              "    <tr>\n",
              "      <th>4</th>\n",
              "      <td>XGBoost on t-SNE Data</td>\n",
              "      <td>0.950689</td>\n",
              "      <td>0.912984</td>\n",
              "      <td>0.828979</td>\n",
              "    </tr>\n",
              "  </tbody>\n",
              "</table>\n",
              "</div>"
            ],
            "text/plain": [
              "                    Model Name  ...  Test Accuracy\n",
              "0         AdaBoost on PCA Data  ...       0.519172\n",
              "1    Random Forest on PCA Data  ...       0.894469\n",
              "2          XGBoost on PCA Data  ...       0.911435\n",
              "3  Random Forest on t-SNE Data  ...       0.848320\n",
              "4        XGBoost on t-SNE Data  ...       0.828979\n",
              "\n",
              "[5 rows x 4 columns]"
            ]
          },
          "metadata": {
            "tags": []
          },
          "execution_count": 159
        }
      ]
    },
    {
      "cell_type": "markdown",
      "metadata": {
        "id": "f3xgH0ci98Ky"
      },
      "source": [
        "<b>References</b>   \n",
        "1. https://towardsdatascience.com/hyperparameter-tuning-the-random-forest-in-python-using-scikit-learn-28d2aa77dd74"
      ]
    }
  ]
}